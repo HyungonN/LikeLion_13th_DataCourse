{
 "cells": [
  {
   "cell_type": "markdown",
   "id": "5b9d4dee",
   "metadata": {},
   "source": [
    "ESC+x : 셀삭제\n",
    "+a or b : 셀추가\n",
    "m : 설명\n",
    "y : 코드입력\n",
    "SHIFT+ENTER : 다음셀 넘어가기\n",
    "CTRL + ENTER 현재셀 실행"
   ]
  },
  {
   "cell_type": "code",
   "execution_count": 16,
   "id": "e1f13517",
   "metadata": {},
   "outputs": [
    {
     "name": "stdout",
     "output_type": "stream",
     "text": [
      "https://www.naver.com/\n",
      "https://www.google.com/\n"
     ]
    }
   ],
   "source": [
    "from bs4 import BeautifulSoup\n",
    "\n",
    "html = '''\n",
    "<html>\n",
    "<head><title>나의 홈페이지</title>\n",
    "</head><body>\n",
    "안녕하세요\n",
    "<div>\n",
    "<a class='url' href=\"https://www.naver.com/\">naver</a>\n",
    "<a class='url' href=\"https://www.google.com/\">google</a>\n",
    "<p> 내가 가장 좋아하는 동물은 강아지입니다.</p>\n",
    "<p> 나는 그리고 네이버 홈페이지에 자주 갑니다.</p>\n",
    "<p class=\"p3\"> 강아지 사진과 네이버 링크 p3 그룹 1</p>\n",
    "<p class=\"p3\"> 강아지 사진과 네이버 링크 p3 그룹 2</p>\n",
    "<p id=\"p4_only\"> 강아지 사진과 네이버 ID p4 </p>\n",
    "<pre>\n",
    " 내가 가장 좋아하는 동물은 강아지입니다.\n",
    " 나는 그리고 네이버 홈페이지에 자주 갑니다.\n",
    " </pre>\n",
    "</div>\n",
    "<div>\n",
    "<p class=\"p3\"> 강아지 사진과 네이버 링크 p3 그룹 3</p>\n",
    "<p class=\"p3\"> 강아지 사진과 네이버 링크 p3 그룹 4</p>\n",
    "<p id=\"p5_only\"> 강아지 사진과 네이버 ID p4 </p>\n",
    "</div>\n",
    "</body>\n",
    "</html>\n",
    "'''\n",
    "\n",
    "soup = BeautifulSoup(html, 'lxml')\n",
    "a = soup.find_all(\"a\", class_=(\"url\"))\n",
    "for one in a:\n",
    "    print(one['href'])"
   ]
  },
  {
   "cell_type": "code",
   "execution_count": 18,
   "id": "2c6a5c12",
   "metadata": {},
   "outputs": [
    {
     "data": {
      "text/plain": [
       "<p> 내가 가장 좋아하는 동물은 강아지입니다.</p>"
      ]
     },
     "execution_count": 18,
     "metadata": {},
     "output_type": "execute_result"
    }
   ],
   "source": [
    "a = list(soup.div.children)[5]\n",
    "a"
   ]
  },
  {
   "cell_type": "code",
   "execution_count": null,
   "id": "4c990ac6",
   "metadata": {},
   "outputs": [],
   "source": []
  }
 ],
 "metadata": {
  "kernelspec": {
   "display_name": "Python 3",
   "language": "python",
   "name": "python3"
  },
  "language_info": {
   "codemirror_mode": {
    "name": "ipython",
    "version": 3
   },
   "file_extension": ".py",
   "mimetype": "text/x-python",
   "name": "python",
   "nbconvert_exporter": "python",
   "pygments_lexer": "ipython3",
   "version": "3.8.8"
  }
 },
 "nbformat": 4,
 "nbformat_minor": 5
}
