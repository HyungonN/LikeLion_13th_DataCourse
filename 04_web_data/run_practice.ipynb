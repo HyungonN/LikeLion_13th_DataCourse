{
 "cells": [
  {
   "cell_type": "code",
   "execution_count": 27,
   "id": "38a8269d",
   "metadata": {},
   "outputs": [],
   "source": [
    "#주석"
   ]
  },
  {
   "cell_type": "code",
   "execution_count": 3,
   "id": "db6e7f67",
   "metadata": {},
   "outputs": [
    {
     "name": "stdout",
     "output_type": "stream",
     "text": [
      "<selenium.webdriver.remote.webelement.WebElement (session=\"1b742fd34912761f5c151eb0b98281cc\", element=\"e05aaa1a-b201-477b-9cf3-f3d3335d9b1c\")>\n"
     ]
    }
   ],
   "source": [
    "from selenium import webdriver\n",
    "from bs4 import BeautifulSoup\n",
    "import os\n",
    "import time\n",
    "\n",
    "url = 'https://pythonstart.github.io/web/'\n",
    "start = time.time()\n",
    "driver = webdriver.Chrome('./chromedriver')\n",
    "driver.get(url)\n",
    "selected_id = driver.find_element_by_id('rank')\n",
    "print(selected_id)"
   ]
  },
  {
   "cell_type": "code",
   "execution_count": 54,
   "id": "95062f90",
   "metadata": {},
   "outputs": [
    {
     "name": "stdout",
     "output_type": "stream",
     "text": [
      "[<selenium.webdriver.remote.webelement.WebElement (session=\"718aa35e9beddbe493335bfdc0534b37\", element=\"706a9e8a-1d63-42ca-af6c-a9e8ece4d30b\")>, <selenium.webdriver.remote.webelement.WebElement (session=\"718aa35e9beddbe493335bfdc0534b37\", element=\"ecd330b7-9651-46a2-b265-a9fc3cdf2b99\")>, <selenium.webdriver.remote.webelement.WebElement (session=\"718aa35e9beddbe493335bfdc0534b37\", element=\"42266dc4-f1a9-48e8-be87-1f28069b3012\")>, <selenium.webdriver.remote.webelement.WebElement (session=\"718aa35e9beddbe493335bfdc0534b37\", element=\"764fef56-dc4b-4079-ba22-4d00daf3db5e\")>, <selenium.webdriver.remote.webelement.WebElement (session=\"718aa35e9beddbe493335bfdc0534b37\", element=\"d6d5f181-9036-438e-a89a-2ae88d5c206f\")>, <selenium.webdriver.remote.webelement.WebElement (session=\"718aa35e9beddbe493335bfdc0534b37\", element=\"4fcc1015-90ec-48f8-9b06-836f1b543b20\")>, <selenium.webdriver.remote.webelement.WebElement (session=\"718aa35e9beddbe493335bfdc0534b37\", element=\"347e442f-9608-4a7b-98eb-8bdd0d55333f\")>, <selenium.webdriver.remote.webelement.WebElement (session=\"718aa35e9beddbe493335bfdc0534b37\", element=\"6749ad00-c0c6-4929-95eb-2e2827505c25\")>, <selenium.webdriver.remote.webelement.WebElement (session=\"718aa35e9beddbe493335bfdc0534b37\", element=\"143ca07f-1d5f-4b06-bbde-0b83a947d4b3\")>, <selenium.webdriver.remote.webelement.WebElement (session=\"718aa35e9beddbe493335bfdc0534b37\", element=\"0d0030e7-9629-4c12-b3c6-565690e8c324\")>]\n"
     ]
    }
   ],
   "source": [
    "all_tag = driver.find_elements_by_tag_name(\"a\")\n",
    "print(all_tag)"
   ]
  },
  {
   "cell_type": "code",
   "execution_count": 39,
   "id": "da187021",
   "metadata": {},
   "outputs": [],
   "source": [
    "n_tag.click()"
   ]
  },
  {
   "cell_type": "code",
   "execution_count": 47,
   "id": "2a442805",
   "metadata": {},
   "outputs": [
    {
     "name": "stdout",
     "output_type": "stream",
     "text": [
      "02. 텍스트 가져오기(p)\n"
     ]
    }
   ],
   "source": [
    "n_tag = driver.find_element_by_name(\"text_get\")\n",
    "print(n_tag.text)"
   ]
  },
  {
   "cell_type": "code",
   "execution_count": 56,
   "id": "7466ed48",
   "metadata": {},
   "outputs": [
    {
     "name": "stdout",
     "output_type": "stream",
     "text": [
      "01. 제목 가져오기(title)\n",
      "02. 텍스트 가져오기(p)\n",
      "03. 링크 가져오기(a)\n",
      "04. 이미지 정보 가져오기(img)\n",
      "05. 리스트 정보 가져오기(ul,ol)\n",
      "06. id를 활용한 정보 획득\n",
      "07. class를 활용한 정보 획득\n",
      "08. 하나의 이미지 다운로드\n",
      "09. 여러개의 이미지 다운로드\n",
      "10. 랭킹 정보 가져오기(웹 크롤링)\n"
     ]
    }
   ],
   "source": [
    "for one in all_tag:\n",
    "    print(one.text)"
   ]
  },
  {
   "cell_type": "code",
   "execution_count": 5,
   "id": "0adffa31",
   "metadata": {},
   "outputs": [
    {
     "name": "stdout",
     "output_type": "stream",
     "text": [
      "10. 랭킹 정보 가져오기(웹 크롤링)\n"
     ]
    }
   ],
   "source": [
    "ten = driver.find_element_by_id(\"rank\")\n",
    "print(ten.text)"
   ]
  },
  {
   "cell_type": "code",
   "execution_count": 10,
   "id": "3c76ca4a",
   "metadata": {},
   "outputs": [
    {
     "name": "stdout",
     "output_type": "stream",
     "text": [
      "01. 제목 가져오기(title)\n",
      "03. 링크 가져오기(a)\n"
     ]
    }
   ],
   "source": [
    "name = driver.find_elements_by_name(\"link_get\")\n",
    "for one in name :\n",
    "    print(one.text)"
   ]
  },
  {
   "cell_type": "code",
   "execution_count": 29,
   "id": "3001aee2",
   "metadata": {},
   "outputs": [
    {
     "name": "stdout",
     "output_type": "stream",
     "text": [
      "my web page\n",
      "01. 제목 가져오기(title)\n",
      "02. 텍스트 가져오기(p)\n",
      "03. 링크 가져오기(a)\n",
      "04. 이미지 정보 가져오기(img)\n",
      "05. 리스트 정보 가져오기(ul,ol)\n",
      "06. id를 활용한 정보 획득\n",
      "07. class를 활용한 정보 획득\n",
      "08. 하나의 이미지 다운로드\n",
      "09. 여러개의 이미지 다운로드\n",
      "10. 랭킹 정보 가져오기(웹 크롤링)\n"
     ]
    }
   ],
   "source": [
    "selection = driver.find_element_by_css_selector(\"body\")\n",
    "print(selection.text)"
   ]
  },
  {
   "cell_type": "code",
   "execution_count": 49,
   "id": "6b86ae91",
   "metadata": {},
   "outputs": [],
   "source": [
    "from selenium import webdriver\n",
    "\n",
    "url = \"http://news.naver.com\"\n",
    "driver = webdriver.Chrome(\"./chromedriver\")\n",
    "driver.get(url)\n",
    "\n",
    "# 검색 입력창 x-path : //*[@id=\"lnb.searchForm\"]/fieldset/input[1]\n",
    "# 검색버튼 x-path : //*[@id=\"lnb.searchForm\"]/fieldset/button\n",
    "sel_search = driver.find_element_by_xpath('//*[@id=\"lnb.searchForm\"]/fieldset/input[1]')\n",
    "sel_button = driver.find_element_by_xpath('//*[@id=\"lnb.searchForm\"]/fieldset/button')\n",
    "\n",
    "#검색시키기\n",
    "sel_search.send_keys(\"네이버\")\n",
    "sel_button.click()"
   ]
  },
  {
   "cell_type": "code",
   "execution_count": 45,
   "id": "47ad01cb",
   "metadata": {},
   "outputs": [],
   "source": [
    "url2 = \"http://daum.net\"\n",
    "driver2 = webdriver.Chrome(\"./chromedriver\")\n",
    "driver2.get(url2)\n",
    "sel_searchbox = driver2.find_element_by_xpath('//*[@id=\"q\"]')\n",
    "sel_searchbutton = driver2.find_element_by_xpath('//*[@id=\"daumSearch\"]/fieldset/div/div/button[2]')\n",
    "\n",
    "sel_searchbox.send_keys(\"카카오\")\n",
    "sel_searchbutton.click()\n"
   ]
  },
  {
   "cell_type": "code",
   "execution_count": 58,
   "id": "b5dc1c93",
   "metadata": {},
   "outputs": [
    {
     "data": {
      "text/plain": [
       "<title>NAVER</title>"
      ]
     },
     "execution_count": 58,
     "metadata": {},
     "output_type": "execute_result"
    }
   ],
   "source": [
    "from bs4 import BeautifulSoup\n",
    "page = driver.page_source\n",
    "soup = BeautifulSoup(page,\"lxml\")\n",
    "soup.title"
   ]
  },
  {
   "cell_type": "code",
   "execution_count": 66,
   "id": "7cc9fae9",
   "metadata": {},
   "outputs": [
    {
     "name": "stdout",
     "output_type": "stream",
     "text": [
      "https://www.amazon.com/s?k=redwing&ref=nb_sb_noss/gp/slredirect/picassoRedirect.html/ref=pa_sp_atf_aps_sr_pg1_1?ie=UTF8&adId=A0503982QYAXD9XWRY5M&url=%2FMerino-Wool-Calf-Travel-Socks%2Fdp%2FB08TGJW6YS%2Fref%3Dsr_1_1_sspa%3Fdchild%3D1%26keywords%3Dredwing%26qid%3D1631254341%26sr%3D8-1-spons%26psc%3D1&qualifier=1631254341&id=1316609507059437&widgetName=sp_atf\n",
      "https://www.amazon.com/s?k=redwing&ref=nb_sb_noss/Red-Wing-Heritage-Classic-Moc/dp/B001KS2DMO/ref=sr_1_2?dchild=1&keywords=redwing&qid=1631254341&sr=8-2\n",
      "https://www.amazon.com/s?k=redwing&ref=nb_sb_noss/Red-Wing-Heritage-Blacksmith-Copper/dp/B018TL53PI/ref=sr_1_3?dchild=1&keywords=redwing&qid=1631254341&sr=8-3\n",
      "https://www.amazon.com/s?k=redwing&ref=nb_sb_noss/Red-Wing-Classic-Chelsea-Leather/dp/B08Y7NTKRQ/ref=sr_1_4?dchild=1&keywords=redwing&qid=1631254341&sr=8-4\n",
      "https://www.amazon.com/s?k=redwing&ref=nb_sb_noss/Red-Wing-Heritage-Ranger-Copper/dp/B01G5FRFLK/ref=sr_1_5?dchild=1&keywords=redwing&qid=1631254341&sr=8-5\n",
      "https://www.amazon.com/s?k=redwing&ref=nb_sb_nosshttps://aax-us-east.amazon-adsystem.com/x/c/QgZey9l1jo94ASFdyE0IgyMAAAF7zlXobwEAAAH2AXOiib8/https://www.amazon.com/dp/B008H0QYPA?pd_rd_i=B008H0QYPA&pd_rd_w=v2bRk&pf_rd_p=0766f286-f72d-49df-b4dc-e0afb9dccb94&pd_rd_wg=WFjnu&pf_rd_r=DDHPH0ASF1EN177E6ZYT&pd_rd_r=50d580e3-4a99-4947-b889-f4cc8b4228c8\n",
      "https://www.amazon.com/s?k=redwing&ref=nb_sb_noss/Irish-Setter-Mens-83605-Brown/dp/B0058Z17IQ/ref=sr_1_6?dchild=1&keywords=redwing&qid=1631254341&sr=8-6\n",
      "https://www.amazon.com/s?k=redwing&ref=nb_sb_noss/Irish-Setter-Wingshooter-Safety-Brown/dp/B01NBTB5T1/ref=sr_1_7?dchild=1&keywords=redwing&qid=1631254341&sr=8-7\n",
      "https://www.amazon.com/s?k=redwing&ref=nb_sb_noss/Merrell-Mens-Waterproof-Hiking-Granite/dp/B01HFKFFPC/ref=sr_1_8?dchild=1&keywords=redwing&qid=1631254341&sr=8-8\n",
      "https://www.amazon.com/s?k=redwing&ref=nb_sb_noss/Irish-Setter-Wingshooter-Safety-Brown/dp/B01N1H45KP/ref=sr_1_9?dchild=1&keywords=redwing&qid=1631254341&sr=8-9\n",
      "https://www.amazon.com/s?k=redwing&ref=nb_sb_noss/Ariat-Mens-Sierra-Square-Steel/dp/B007490AOQ/ref=sr_1_10?dchild=1&keywords=redwing&qid=1631254341&sr=8-10\n",
      "https://www.amazon.com/s?k=redwing&ref=nb_sb_noss/Carhartt-Safety-NWP-M-Crazy-Tanned/dp/B00TP3CKM4/ref=sr_1_11?dchild=1&keywords=redwing&qid=1631254341&sr=8-11\n",
      "https://www.amazon.com/s?k=redwing&ref=nb_sb_noss/Irish-Setter-83606-Aluminum-Brown/dp/B0058Z1MAE/ref=sr_1_12?dchild=1&keywords=redwing&qid=1631254341&sr=8-12\n",
      "https://www.amazon.com/s?k=redwing&ref=nb_sb_noss/Carhartt-CMW6175-6-Inch-Waterproof-Wedge/dp/B01L2UH2WU/ref=sr_1_13?dchild=1&keywords=redwing&qid=1631254341&sr=8-13\n",
      "https://www.amazon.com/s?k=redwing&ref=nb_sb_noss/Timberland-PRO-Waterproof-Non-Insulated-Distressed/dp/B00EAKYI5O/ref=sr_1_14?dchild=1&keywords=redwing&qid=1631254341&sr=8-14\n",
      "https://www.amazon.com/s?k=redwing&ref=nb_sb_noss/Thorogood-814-4200-American-Heritage-Tobacco/dp/B003O9W8WW/ref=sr_1_15?dchild=1&keywords=redwing&qid=1631254341&sr=8-15\n",
      "https://www.amazon.com/s?k=redwing&ref=nb_sb_noss/Timberland-PRO-Endurance-Puncture-Resistant/dp/B001FY5SMA/ref=sr_1_16?dchild=1&keywords=redwing&qid=1631254341&sr=8-16\n",
      "https://www.amazon.com/s?k=redwing&ref=nb_sb_noss/Irish-Setter-83403-Hiker-Brown/dp/B009EPB1P0/ref=sr_1_17?dchild=1&keywords=redwing&qid=1631254341&sr=8-17\n",
      "https://www.amazon.com/s?k=redwing&ref=nb_sb_noss/Skechers-Work-Hartan-Slip-Brown/dp/B00YHY4EWU/ref=sr_1_18?dchild=1&keywords=redwing&qid=1631254341&sr=8-18\n",
      "https://www.amazon.com/s?k=redwing&ref=nb_sb_noss/Caterpillar-Threshold-Waterproof-Steel-Industrial/dp/B06ZYTQ6BZ/ref=sr_1_19?dchild=1&keywords=redwing&qid=1631254341&sr=8-19\n",
      "https://www.amazon.com/s?k=redwing&ref=nb_sb_noss/Irish-Setter-Crosby-Waterproof-Pull/dp/B01I48I3DK/ref=sr_1_20?dchild=1&keywords=redwing&qid=1631254341&sr=8-20\n",
      "https://www.amazon.com/s?k=redwing&ref=nb_sb_noss/Thorogood-804-4208-Heritage-Safety-Oil-Tanned/dp/B003KW73GO/ref=sr_1_21?dchild=1&keywords=redwing&qid=1631254341&sr=8-21\n",
      "https://www.amazon.com/s?k=redwing&ref=nb_sb_noss/Merrell-Mens-Waterproof-Hiking-Granite/dp/B01HFNE9DI/ref=sr_1_22?dchild=1&keywords=redwing&qid=1631254341&sr=8-22\n",
      "https://www.amazon.com/s?k=redwing&ref=nb_sb_noss/Wolverine-Mens-Loader-Wedge-Brown/dp/B01N6IDPKE/ref=sr_1_23?dchild=1&keywords=redwing&qid=1631254341&sr=8-23\n",
      "https://www.amazon.com/s?k=redwing&ref=nb_sb_noss/KEEN-Utility-Industrial-Black-Carmel/dp/B078KN4MJJ/ref=sr_1_24?dchild=1&keywords=redwing&qid=1631254341&sr=8-24\n",
      "https://www.amazon.com/s?k=redwing&ref=nb_sb_noss/Irish-Setter-83909-Wellington-Brown/dp/B009EPDY00/ref=sr_1_25?dchild=1&keywords=redwing&qid=1631254341&sr=8-25\n",
      "https://www.amazon.com/s?k=redwing&ref=nb_sb_noss/gp/slredirect/picassoRedirect.html/ref=pa_sp_mtf_aps_sr_pg1_1?ie=UTF8&adId=A06166171RF7EMZ7LLCPH&url=%2FKelty-Redwing-30-Tactical-Navy%2Fdp%2FB077CV9CLY%2Fref%3Dsr_1_26_sspa%3Fdchild%3D1%26keywords%3Dredwing%26qid%3D1631254341%26sr%3D8-26-spons%26psc%3D1&qualifier=1631254341&id=1316609507059437&widgetName=sp_mtf\n",
      "https://www.amazon.com/s?k=redwing&ref=nb_sb_noss/gp/slredirect/picassoRedirect.html/ref=pa_sp_mtf_aps_sr_pg1_1?ie=UTF8&adId=A08298932ZQEAYJ3K76ID&url=%2FORISTACO-Lightweight-Breathable-Industrial-Construction%2Fdp%2FB08GSQW566%2Fref%3Dsr_1_27_sspa%3Fdchild%3D1%26keywords%3Dredwing%26qid%3D1631254341%26sr%3D8-27-spons%26psc%3D1%26smid%3DA1GS2B0APYSC1I&qualifier=1631254341&id=1316609507059437&widgetName=sp_mtf\n",
      "https://www.amazon.com/s?k=redwing&ref=nb_sb_noss/gp/slredirect/picassoRedirect.html/ref=pa_sp_mtf_aps_sr_pg1_1?ie=UTF8&adId=A07367003RCA6X1T5CG7O&url=%2FShoes-Lightweight-Comfortable-Safety-Construction%2Fdp%2FB08BP3WX14%2Fref%3Dsr_1_28_sspa%3Fdchild%3D1%26keywords%3Dredwing%26qid%3D1631254341%26sr%3D8-28-spons%26psc%3D1&qualifier=1631254341&id=1316609507059437&widgetName=sp_mtf\n",
      "https://www.amazon.com/s?k=redwing&ref=nb_sb_noss/Irish-Setter-83608-Steel-Brown/dp/B0058Z26S6/ref=sr_1_29?dchild=1&keywords=redwing&qid=1631254341&sr=8-29\n",
      "https://www.amazon.com/s?k=redwing&ref=nb_sb_noss/Wolverine-Overpass-Composite-Waterproof-Summer/dp/B01MR09G7J/ref=sr_1_30?dchild=1&keywords=redwing&qid=1631254341&sr=8-30\n",
      "https://www.amazon.com/s?k=redwing&ref=nb_sb_noss/Irish-Setter-83907-Wellington-Brown/dp/B009EPD7QQ/ref=sr_1_31?dchild=1&keywords=redwing&qid=1631254341&sr=8-31\n",
      "https://www.amazon.com/s?k=redwing&ref=nb_sb_noss/Ariat-Lookout-Western-Chukka-Earth/dp/B00IM7BFZ2/ref=sr_1_32?dchild=1&keywords=redwing&qid=1631254341&sr=8-32\n",
      "https://www.amazon.com/s?k=redwing&ref=nb_sb_noss/Caterpillar-Mens-Shift-Steel-Black/dp/B000AYWPJA/ref=sr_1_33?dchild=1&keywords=redwing&qid=1631254341&sr=8-33\n",
      "https://www.amazon.com/s?k=redwing&ref=nb_sb_noss/Irish-Setter-Kastoa-Side-Zip-Waterproof/dp/B01MQK8XGC/ref=sr_1_34?dchild=1&keywords=redwing&qid=1631254341&sr=8-34\n",
      "https://www.amazon.com/s?k=redwing&ref=nb_sb_noss/Irish-Setter-Mens-83607-Brown/dp/B0058Z1WKO/ref=sr_1_35?dchild=1&keywords=redwing&qid=1631254341&sr=8-35\n",
      "https://www.amazon.com/s?k=redwing&ref=nb_sb_noss/Ariat-Mens-Recon-Golden-Grizzly/dp/B01N9VWTYF/ref=sr_1_36?dchild=1&keywords=redwing&qid=1631254341&sr=8-36\n",
      "https://www.amazon.com/s?k=redwing&ref=nb_sb_noss/Irish-Setter-838-Wingshooter-Hunting/dp/B000H4PIRY/ref=sr_1_37?dchild=1&keywords=redwing&qid=1631254341&sr=8-37\n",
      "https://www.amazon.com/s?k=redwing&ref=nb_sb_noss/Carhartt-Ground-Force-6-Inch-Waterproof/dp/B06XFW1SD6/ref=sr_1_38?dchild=1&keywords=redwing&qid=1631254341&sr=8-38\n",
      "https://www.amazon.com/s?k=redwing&ref=nb_sb_noss/Timberland-PRO-Gridworks-Waterproof-Industrial/dp/B074KQQWX9/ref=sr_1_39?dchild=1&keywords=redwing&qid=1631254341&sr=8-39\n",
      "https://www.amazon.com/s?k=redwing&ref=nb_sb_noss/Timberland-PRO-Rigmaster-Waterproof-Tumbled/dp/B00RKL41KC/ref=sr_1_40?dchild=1&keywords=redwing&qid=1631254341&sr=8-40\n",
      "https://www.amazon.com/s?k=redwing&ref=nb_sb_noss/Timberland-White-Ledge-Waterproof-Ankle/dp/B003RQFNEW/ref=sr_1_41?dchild=1&keywords=redwing&qid=1631254341&sr=8-41\n",
      "https://www.amazon.com/s?k=redwing&ref=nb_sb_noss/Timberland-Mens-Whiteledge-Hiker-Wheat/dp/B005MI8JNK/ref=sr_1_42?dchild=1&keywords=redwing&qid=1631254341&sr=8-42\n",
      "https://www.amazon.com/s?k=redwing&ref=nb_sb_noss/Irish-Setter-Wingshooter-Waterproof-Hunting/dp/B002QENCC6/ref=sr_1_43?dchild=1&keywords=redwing&qid=1631254341&sr=8-43\n",
      "https://www.amazon.com/s?k=redwing&ref=nb_sb_noss/Irish-Setter-Mesabi-Steel-83834/dp/B01I48JNUM/ref=sr_1_44?dchild=1&keywords=redwing&qid=1631254341&sr=8-44\n",
      "https://www.amazon.com/s?k=redwing&ref=nb_sb_noss/Bates-Ulta-lites-Inches-Tactical-Sport/dp/B000G5YG18/ref=sr_1_45?dchild=1&keywords=redwing&qid=1631254341&sr=8-45\n",
      "https://www.amazon.com/s?k=redwing&ref=nb_sb_noss/Timberland-PRO-Pitboss-Steel-Toe-Brown/dp/B000XF0RE6/ref=sr_1_46?dchild=1&keywords=redwing&qid=1631254341&sr=8-46\n",
      "https://www.amazon.com/s?k=redwing&ref=nb_sb_noss/Reebok-Work-RB4041-Industrial-Construction/dp/B01M1L6HTG/ref=sr_1_47?dchild=1&keywords=redwing&qid=1631254341&sr=8-47\n",
      "https://www.amazon.com/s?k=redwing&ref=nb_sb_noss/Red-Wing-Work-Chukka-Oro-iginal/dp/B002GD8H04/ref=sr_1_48?dchild=1&keywords=redwing&qid=1631254341&sr=8-48\n",
      "https://www.amazon.com/s?k=redwing&ref=nb_sb_noss/ROCKROOSTER-Safety-Resistant-Leather-EEE-Wide/dp/B07K8B592F/ref=sr_1_49?dchild=1&keywords=redwing&qid=1631254341&sr=8-49\n",
      "https://www.amazon.com/s?k=redwing&ref=nb_sb_noss/Carhartt-Wellington-Waterproof-Leather-CMP1259/dp/B007UXO146/ref=sr_1_50?dchild=1&keywords=redwing&qid=1631254341&sr=8-50\n",
      "https://www.amazon.com/s?k=redwing&ref=nb_sb_noss/Irish-Setter-83912-Marshall-Waterproof/dp/B00HUEHL0Q/ref=sr_1_51?dchild=1&keywords=redwing&qid=1631254341&sr=8-51\n",
      "https://www.amazon.com/s?k=redwing&ref=nb_sb_noss/Red-Wing-Heritage-Iron-Ranger/dp/B001IOLGIW/ref=sr_1_52?dchild=1&keywords=redwing&qid=1631254341&sr=8-52\n",
      "https://www.amazon.com/s?k=redwing&ref=nb_sb_noss/gp/slredirect/picassoRedirect.html/ref=pa_sp_btf_aps_sr_pg1_1?ie=UTF8&adId=A04655012K8XQ40N31HDS&url=%2FROCKROOSTER-Waterproof-Breathable-Lightweight-Anti-Fatigue%2Fdp%2FB07Z1RSQT3%2Fref%3Dsr_1_53_sspa%3Fdchild%3D1%26keywords%3Dredwing%26qid%3D1631254341%26sr%3D8-53-spons%26psc%3D1%26smid%3DAUXXK1D37OVPK&qualifier=1631254341&id=1316609507059437&widgetName=sp_btf\n",
      "https://www.amazon.com/s?k=redwing&ref=nb_sb_noss/gp/slredirect/picassoRedirect.html/ref=pa_sp_btf_aps_sr_pg1_1?ie=UTF8&adId=A01018943IGFK4CXGZDF2&url=%2FOUXX-Indestructible-Puncture-Resistant-Construction%2Fdp%2FB08QMS5M6B%2Fref%3Dsr_1_54_sspa%3Fdchild%3D1%26keywords%3Dredwing%26qid%3D1631254341%26sr%3D8-54-spons%26psc%3D1&qualifier=1631254341&id=1316609507059437&widgetName=sp_btf\n",
      "https://www.amazon.com/s?k=redwing&ref=nb_sb_noss/gp/slredirect/picassoRedirect.html/ref=pa_sp_btf_aps_sr_pg1_1?ie=UTF8&adId=A02262261WFEV1EP7LKXT&url=%2FMens-Casual-Brown-Dress-Boots%2Fdp%2FB08FD5XHSC%2Fref%3Dsr_1_55_sspa%3Fdchild%3D1%26keywords%3Dredwing%26qid%3D1631254341%26sr%3D8-55-spons%26psc%3D1&qualifier=1631254341&id=1316609507059437&widgetName=sp_btf\n",
      "https://www.amazon.com/s?k=redwing&ref=nb_sb_noss/gp/slredirect/picassoRedirect.html/ref=pa_sp_btf_aps_sr_pg1_1?ie=UTF8&adId=A0183691U75ZIDMTYDZ8&url=%2FROCKROOSTER-Resistant-Non-Slip-Anti-Fatigue-AP611%2Fdp%2FB08XB79LY4%2Fref%3Dsr_1_56_sspa%3Fdchild%3D1%26keywords%3Dredwing%26qid%3D1631254341%26sr%3D8-56-spons%26psc%3D1%26smid%3DA32PQWT8MBXKE5&qualifier=1631254341&id=1316609507059437&widgetName=sp_btf\n",
      "https://www.amazon.com/s?k=redwing&ref=nb_sb_noss/gp/slredirect/picassoRedirect.html/ref=pa_sp_btf_aps_sr_pg1_1?ie=UTF8&adId=A09223382JZGLTF0TL0JR&url=%2FRockrooster-Comfortable-Anti-Fatigue-Insulated-VAP360%2Fdp%2FB08YYNPKBW%2Fref%3Dsr_1_57_sspa%3Fdchild%3D1%26keywords%3Dredwing%26qid%3D1631254341%26sr%3D8-57-spons%26psc%3D1%26smid%3DAUXXK1D37OVPK&qualifier=1631254341&id=1316609507059437&widgetName=sp_btf\n",
      "https://www.amazon.com/s?k=redwing&ref=nb_sb_noss/gp/slredirect/picassoRedirect.html/ref=pa_sp_btf_aps_sr_pg1_1?ie=UTF8&adId=A06503343G08LXX4L840V&url=%2FLugz-Mens-Convoy-Fashion-Boot%2Fdp%2FB06Y5TRXQF%2Fref%3Dsr_1_58_sspa%3Fdchild%3D1%26keywords%3Dredwing%26qid%3D1631254341%26sr%3D8-58-spons%26psc%3D1&qualifier=1631254341&id=1316609507059437&widgetName=sp_btf\n"
     ]
    }
   ],
   "source": [
    "from bs4 import BeautifulSoup\n",
    "from selenium import webdriver\n",
    "\n",
    "url = \"https://www.amazon.com\"\n",
    "driver= webdriver.Chrome(\"./chromedriver\")\n",
    "driver.get(url)\n",
    "\n",
    "searchbox = driver.find_element_by_xpath('//*[@id=\"twotabsearchtextbox\"]')\n",
    "searchbutton = driver.find_element_by_xpath('//*[@id=\"nav-search-submit-button\"]')\n",
    "\n",
    "searchbox.send_keys(\"redwing\")\n",
    "searchbutton.click()\n",
    "\n",
    "page = driver.page_source\n",
    "soup=BeautifulSoup(page, 'html.parser')\n",
    "\n",
    "current_url = driver.current_url\n",
    "\n",
    "all_link = soup.find_all(\"a\", class_ ='a-link-normal a-text-normal')\n",
    "for one in all_link :\n",
    "    print(current_url+one['href'])"
   ]
  },
  {
   "cell_type": "code",
   "execution_count": 78,
   "id": "39eee14d",
   "metadata": {},
   "outputs": [
    {
     "name": "stdout",
     "output_type": "stream",
     "text": [
      "10\n",
      "20\n"
     ]
    }
   ],
   "source": [
    "driver = webdriver.Chrome('./chromedriver')\n",
    "\n",
    "url = 'https://www.amazon.com/HP-24-inch-Computer-Processor-24-dd0010/dp/B0849GZCQR/ref=sr_1_2?dchild=1&keywords=computer&qid=1631254252&sr=8-2'\n",
    "driver.get(url)\n",
    "current_url = driver.current_url\n",
    "all_review =[]\n",
    "\n",
    "viewall= driver.find_element_by_xpath('//*[@id=\"reviews-medley-footer\"]/div[2]/a')\n",
    "viewall.click()\n",
    "\n",
    "reviewpage = driver.page_source\n",
    "\n",
    "soup = BeautifulSoup(reviewpage, 'lxml')\n",
    "reviewtext = soup.find_all(\"span\", class_= \"a-size-base review-text review-text-content\")\n",
    "for one in reviewtext :\n",
    "    tmp = one.text.strip()\n",
    "    all_review.append(tmp)\n",
    "    \n",
    "#print(len(all_review))    \n",
    "#print(all_review)\n",
    "nextpage = driver.find_element_by_xpath('//*[@id=\"cm_cr-pagination_bar\"]/ul/li[2]/a')\n",
    "nextpage.click()\n",
    "\n",
    "reviewpage = driver.page_source\n",
    "soup = BeautifulSoup(reviewpage, 'lxml')\n",
    "reviewtext = soup.find_all(\"span\", class_= \"a-size-base review-text review-text-content\")\n",
    "for one in reviewtext :\n",
    "    tmp = one.text.strip()\n",
    "    all_review.append(tmp)\n",
    "\n",
    "#print(len(all_review))\n",
    "\n",
    "import pandas as pd\n",
    "dict_review = {\"아마존 컴퓨터 리뷰\": all_review}\n",
    "dat = pd.DataFrame(dict_review)\n",
    "dat.to_csv(\"아마존 컴퓨터리뷰.csv\", index= False)"
   ]
  }
 ],
 "metadata": {
  "kernelspec": {
   "display_name": "Python 3",
   "language": "python",
   "name": "python3"
  },
  "language_info": {
   "codemirror_mode": {
    "name": "ipython",
    "version": 3
   },
   "file_extension": ".py",
   "mimetype": "text/x-python",
   "name": "python",
   "nbconvert_exporter": "python",
   "pygments_lexer": "ipython3",
   "version": "3.8.8"
  }
 },
 "nbformat": 4,
 "nbformat_minor": 5
}
