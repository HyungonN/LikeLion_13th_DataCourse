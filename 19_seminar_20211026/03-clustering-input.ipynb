{
 "cells": [
  {
   "cell_type": "markdown",
   "metadata": {
    "id": "Q6Rph7XF0cwT"
   },
   "source": [
    "## Cluster analysis(군집화 분석)\n",
    "\n",
    "* Cluster analysis(군집화 분석)이란 주어진 데이터들의 특성을 고려해 데이터 집단(Cluster)을 정의하고 데이터 집단의 대표할 수 있는 대표점을 찾는 것으로 데이터 마이닝의 한 방법이다. \n",
    "\n",
    "* Cluster란 비슷한 특성을 가진 데이터들의 집단. 반대로 데이터의 특성이 다르면 다른 클러스터에 속해야 한다.\n",
    "\n",
    "* 효율성 : Cluster 분석을 통해 수백만의 데이터를 직접 확인하지 않고 각각 Cluster의 대표값만 확인해 전체 데이터의 특성을 파악할 수 있다.\n",
    "\n",
    "출처 : [클러스터 분석 - 위키백과, 우리 모두의 백과사전](https://ko.wikipedia.org/wiki/%ED%81%B4%EB%9F%AC%EC%8A%A4%ED%84%B0_%EB%B6%84%EC%84%9D)\n",
    "\n",
    "\n",
    "## scikit-learn의 Clustering 알고리즘 비교\n",
    "<img src=\"https://scikit-learn.org/stable/_images/sphx_glr_plot_cluster_comparison_001.png\">\n",
    "\n",
    "출처 : [scikit-learn 2.3.1. Overview of clustering method](https://scikit-learn.org/stable/modules/clustering.html#clustering)\n",
    "\n",
    "\n",
    "## K-Means\n",
    "\n",
    "* 주어진 데이터를 k개의 클러스터로 묶는 알고리즘으로, 각 클러스터와 거리 차이의 분산을 최소화하는 방식으로 동작한다. \n",
    "\n",
    "* 이 알고리즘은 자율 학습의 일종으로, 레이블이 달려 있지 않은 입력 데이터에 레이블을 달아주는 역할을 수행한다.\n",
    "\n",
    "<img src=\"https://upload.wikimedia.org/wikipedia/commons/thumb/7/7b/Kmeans_animation_withoutWatermark.gif/220px-Kmeans_animation_withoutWatermark.gif\">\n",
    "\n",
    "출처 : [K-평균_알고리즘 - 위키백과, 우리 모두의 백과사전](https://ko.wikipedia.org/wiki/K-%ED%8F%89%EA%B7%A0_%EC%95%8C%EA%B3%A0%EB%A6%AC%EC%A6%98)"
   ]
  },
  {
   "cell_type": "markdown",
   "metadata": {
    "id": "ni5RxqMr0cwY"
   },
   "source": [
    "## 라이브러리 로드"
   ]
  },
  {
   "cell_type": "code",
   "execution_count": 1,
   "metadata": {
    "id": "umI9pmZO0cwZ",
    "outputId": "29c677f6-5f55-4624-a1e2-63d473eefa5e"
   },
   "outputs": [],
   "source": [
    "import pandas as pd\n",
    "import numpy as np\n",
    "import seaborn as sns\n",
    "import matplotlib.pyplot as plt"
   ]
  },
  {
   "cell_type": "markdown",
   "metadata": {
    "id": "czK5ETHx0cwb"
   },
   "source": [
    "## 파일 불러오기"
   ]
  },
  {
   "cell_type": "code",
   "execution_count": 2,
   "metadata": {
    "id": "efRS_US70cwb",
    "outputId": "943ff6df-858f-4c53-9756-313eff2bbb89"
   },
   "outputs": [
    {
     "data": {
      "text/html": [
       "<div>\n",
       "<style scoped>\n",
       "    .dataframe tbody tr th:only-of-type {\n",
       "        vertical-align: middle;\n",
       "    }\n",
       "\n",
       "    .dataframe tbody tr th {\n",
       "        vertical-align: top;\n",
       "    }\n",
       "\n",
       "    .dataframe thead th {\n",
       "        text-align: right;\n",
       "    }\n",
       "</style>\n",
       "<table border=\"1\" class=\"dataframe\">\n",
       "  <thead>\n",
       "    <tr style=\"text-align: right;\">\n",
       "      <th></th>\n",
       "      <th>Recency</th>\n",
       "      <th>Frequency</th>\n",
       "      <th>MonetaryValue</th>\n",
       "      <th>R</th>\n",
       "      <th>F</th>\n",
       "      <th>M</th>\n",
       "      <th>RFM_segment</th>\n",
       "      <th>RFM_score</th>\n",
       "      <th>RFM_class</th>\n",
       "    </tr>\n",
       "    <tr>\n",
       "      <th>CustomerID</th>\n",
       "      <th></th>\n",
       "      <th></th>\n",
       "      <th></th>\n",
       "      <th></th>\n",
       "      <th></th>\n",
       "      <th></th>\n",
       "      <th></th>\n",
       "      <th></th>\n",
       "      <th></th>\n",
       "    </tr>\n",
       "  </thead>\n",
       "  <tbody>\n",
       "    <tr>\n",
       "      <th>12346.0</th>\n",
       "      <td>326</td>\n",
       "      <td>1</td>\n",
       "      <td>77183.60</td>\n",
       "      <td>1</td>\n",
       "      <td>1</td>\n",
       "      <td>5</td>\n",
       "      <td>115</td>\n",
       "      <td>7</td>\n",
       "      <td>silver</td>\n",
       "    </tr>\n",
       "    <tr>\n",
       "      <th>12347.0</th>\n",
       "      <td>2</td>\n",
       "      <td>182</td>\n",
       "      <td>4310.00</td>\n",
       "      <td>5</td>\n",
       "      <td>5</td>\n",
       "      <td>5</td>\n",
       "      <td>555</td>\n",
       "      <td>15</td>\n",
       "      <td>platinum</td>\n",
       "    </tr>\n",
       "    <tr>\n",
       "      <th>12348.0</th>\n",
       "      <td>75</td>\n",
       "      <td>31</td>\n",
       "      <td>1797.24</td>\n",
       "      <td>2</td>\n",
       "      <td>3</td>\n",
       "      <td>4</td>\n",
       "      <td>234</td>\n",
       "      <td>9</td>\n",
       "      <td>gold</td>\n",
       "    </tr>\n",
       "    <tr>\n",
       "      <th>12349.0</th>\n",
       "      <td>19</td>\n",
       "      <td>73</td>\n",
       "      <td>1757.55</td>\n",
       "      <td>4</td>\n",
       "      <td>4</td>\n",
       "      <td>4</td>\n",
       "      <td>444</td>\n",
       "      <td>12</td>\n",
       "      <td>platinum</td>\n",
       "    </tr>\n",
       "    <tr>\n",
       "      <th>12350.0</th>\n",
       "      <td>310</td>\n",
       "      <td>17</td>\n",
       "      <td>334.40</td>\n",
       "      <td>1</td>\n",
       "      <td>2</td>\n",
       "      <td>2</td>\n",
       "      <td>122</td>\n",
       "      <td>5</td>\n",
       "      <td>silver</td>\n",
       "    </tr>\n",
       "    <tr>\n",
       "      <th>...</th>\n",
       "      <td>...</td>\n",
       "      <td>...</td>\n",
       "      <td>...</td>\n",
       "      <td>...</td>\n",
       "      <td>...</td>\n",
       "      <td>...</td>\n",
       "      <td>...</td>\n",
       "      <td>...</td>\n",
       "      <td>...</td>\n",
       "    </tr>\n",
       "    <tr>\n",
       "      <th>18280.0</th>\n",
       "      <td>278</td>\n",
       "      <td>10</td>\n",
       "      <td>180.60</td>\n",
       "      <td>1</td>\n",
       "      <td>1</td>\n",
       "      <td>1</td>\n",
       "      <td>111</td>\n",
       "      <td>3</td>\n",
       "      <td>silver</td>\n",
       "    </tr>\n",
       "    <tr>\n",
       "      <th>18281.0</th>\n",
       "      <td>181</td>\n",
       "      <td>7</td>\n",
       "      <td>80.82</td>\n",
       "      <td>1</td>\n",
       "      <td>1</td>\n",
       "      <td>1</td>\n",
       "      <td>111</td>\n",
       "      <td>3</td>\n",
       "      <td>silver</td>\n",
       "    </tr>\n",
       "    <tr>\n",
       "      <th>18282.0</th>\n",
       "      <td>8</td>\n",
       "      <td>12</td>\n",
       "      <td>178.05</td>\n",
       "      <td>5</td>\n",
       "      <td>1</td>\n",
       "      <td>1</td>\n",
       "      <td>511</td>\n",
       "      <td>7</td>\n",
       "      <td>silver</td>\n",
       "    </tr>\n",
       "    <tr>\n",
       "      <th>18283.0</th>\n",
       "      <td>4</td>\n",
       "      <td>721</td>\n",
       "      <td>2045.53</td>\n",
       "      <td>5</td>\n",
       "      <td>5</td>\n",
       "      <td>4</td>\n",
       "      <td>554</td>\n",
       "      <td>14</td>\n",
       "      <td>platinum</td>\n",
       "    </tr>\n",
       "    <tr>\n",
       "      <th>18287.0</th>\n",
       "      <td>43</td>\n",
       "      <td>70</td>\n",
       "      <td>1837.28</td>\n",
       "      <td>3</td>\n",
       "      <td>4</td>\n",
       "      <td>4</td>\n",
       "      <td>344</td>\n",
       "      <td>11</td>\n",
       "      <td>gold</td>\n",
       "    </tr>\n",
       "  </tbody>\n",
       "</table>\n",
       "<p>4338 rows × 9 columns</p>\n",
       "</div>"
      ],
      "text/plain": [
       "            Recency  Frequency  MonetaryValue  R  F  M  RFM_segment  \\\n",
       "CustomerID                                                            \n",
       "12346.0         326          1       77183.60  1  1  5          115   \n",
       "12347.0           2        182        4310.00  5  5  5          555   \n",
       "12348.0          75         31        1797.24  2  3  4          234   \n",
       "12349.0          19         73        1757.55  4  4  4          444   \n",
       "12350.0         310         17         334.40  1  2  2          122   \n",
       "...             ...        ...            ... .. .. ..          ...   \n",
       "18280.0         278         10         180.60  1  1  1          111   \n",
       "18281.0         181          7          80.82  1  1  1          111   \n",
       "18282.0           8         12         178.05  5  1  1          511   \n",
       "18283.0           4        721        2045.53  5  5  4          554   \n",
       "18287.0          43         70        1837.28  3  4  4          344   \n",
       "\n",
       "            RFM_score RFM_class  \n",
       "CustomerID                       \n",
       "12346.0             7    silver  \n",
       "12347.0            15  platinum  \n",
       "12348.0             9      gold  \n",
       "12349.0            12  platinum  \n",
       "12350.0             5    silver  \n",
       "...               ...       ...  \n",
       "18280.0             3    silver  \n",
       "18281.0             3    silver  \n",
       "18282.0             7    silver  \n",
       "18283.0            14  platinum  \n",
       "18287.0            11      gold  \n",
       "\n",
       "[4338 rows x 9 columns]"
      ]
     },
     "execution_count": 2,
     "metadata": {},
     "output_type": "execute_result"
    }
   ],
   "source": [
    "# rfm.csv 파일을 읽어오고, index는 \"CustomerID\"로 설정해 줍니다.\n",
    "\n",
    "rfm = pd.read_csv(\"rfm.csv\")\n",
    "rfm = rfm.set_index(\"CustomerID\")\n",
    "rfm"
   ]
  },
  {
   "cell_type": "markdown",
   "metadata": {
    "id": "AhlTZyEe0cwc"
   },
   "source": [
    "## rfm_cluster 변수 생성"
   ]
  },
  {
   "cell_type": "code",
   "execution_count": 3,
   "metadata": {
    "id": "glfaviN30cwc",
    "outputId": "5695c568-c819-4694-858e-1919097fba0c"
   },
   "outputs": [
    {
     "data": {
      "text/html": [
       "<div>\n",
       "<style scoped>\n",
       "    .dataframe tbody tr th:only-of-type {\n",
       "        vertical-align: middle;\n",
       "    }\n",
       "\n",
       "    .dataframe tbody tr th {\n",
       "        vertical-align: top;\n",
       "    }\n",
       "\n",
       "    .dataframe thead th {\n",
       "        text-align: right;\n",
       "    }\n",
       "</style>\n",
       "<table border=\"1\" class=\"dataframe\">\n",
       "  <thead>\n",
       "    <tr style=\"text-align: right;\">\n",
       "      <th></th>\n",
       "      <th>Recency</th>\n",
       "      <th>Frequency</th>\n",
       "      <th>MonetaryValue</th>\n",
       "    </tr>\n",
       "    <tr>\n",
       "      <th>CustomerID</th>\n",
       "      <th></th>\n",
       "      <th></th>\n",
       "      <th></th>\n",
       "    </tr>\n",
       "  </thead>\n",
       "  <tbody>\n",
       "    <tr>\n",
       "      <th>12346.0</th>\n",
       "      <td>326</td>\n",
       "      <td>1</td>\n",
       "      <td>77183.60</td>\n",
       "    </tr>\n",
       "    <tr>\n",
       "      <th>12347.0</th>\n",
       "      <td>2</td>\n",
       "      <td>182</td>\n",
       "      <td>4310.00</td>\n",
       "    </tr>\n",
       "    <tr>\n",
       "      <th>12348.0</th>\n",
       "      <td>75</td>\n",
       "      <td>31</td>\n",
       "      <td>1797.24</td>\n",
       "    </tr>\n",
       "    <tr>\n",
       "      <th>12349.0</th>\n",
       "      <td>19</td>\n",
       "      <td>73</td>\n",
       "      <td>1757.55</td>\n",
       "    </tr>\n",
       "    <tr>\n",
       "      <th>12350.0</th>\n",
       "      <td>310</td>\n",
       "      <td>17</td>\n",
       "      <td>334.40</td>\n",
       "    </tr>\n",
       "    <tr>\n",
       "      <th>...</th>\n",
       "      <td>...</td>\n",
       "      <td>...</td>\n",
       "      <td>...</td>\n",
       "    </tr>\n",
       "    <tr>\n",
       "      <th>18280.0</th>\n",
       "      <td>278</td>\n",
       "      <td>10</td>\n",
       "      <td>180.60</td>\n",
       "    </tr>\n",
       "    <tr>\n",
       "      <th>18281.0</th>\n",
       "      <td>181</td>\n",
       "      <td>7</td>\n",
       "      <td>80.82</td>\n",
       "    </tr>\n",
       "    <tr>\n",
       "      <th>18282.0</th>\n",
       "      <td>8</td>\n",
       "      <td>12</td>\n",
       "      <td>178.05</td>\n",
       "    </tr>\n",
       "    <tr>\n",
       "      <th>18283.0</th>\n",
       "      <td>4</td>\n",
       "      <td>721</td>\n",
       "      <td>2045.53</td>\n",
       "    </tr>\n",
       "    <tr>\n",
       "      <th>18287.0</th>\n",
       "      <td>43</td>\n",
       "      <td>70</td>\n",
       "      <td>1837.28</td>\n",
       "    </tr>\n",
       "  </tbody>\n",
       "</table>\n",
       "<p>4338 rows × 3 columns</p>\n",
       "</div>"
      ],
      "text/plain": [
       "            Recency  Frequency  MonetaryValue\n",
       "CustomerID                                   \n",
       "12346.0         326          1       77183.60\n",
       "12347.0           2        182        4310.00\n",
       "12348.0          75         31        1797.24\n",
       "12349.0          19         73        1757.55\n",
       "12350.0         310         17         334.40\n",
       "...             ...        ...            ...\n",
       "18280.0         278         10         180.60\n",
       "18281.0         181          7          80.82\n",
       "18282.0           8         12         178.05\n",
       "18283.0           4        721        2045.53\n",
       "18287.0          43         70        1837.28\n",
       "\n",
       "[4338 rows x 3 columns]"
      ]
     },
     "execution_count": 3,
     "metadata": {},
     "output_type": "execute_result"
    }
   ],
   "source": [
    "# iloc를 사용하여 Recency, Frequency, MonetaryValue 컬럼 데이터를 rfm_cluster 변수에 담습니다.\n",
    "\n",
    "rfm_cluster = rfm.iloc[:,:3]\n",
    "rfm_cluster"
   ]
  },
  {
   "cell_type": "markdown",
   "metadata": {
    "id": "odiY5V3m0cwd"
   },
   "source": [
    "## 정규화\n",
    "\n",
    "<img src=\"https://upload.wikimedia.org/wikipedia/commons/thumb/1/17/Binary_logarithm_plot_with_ticks.svg/1200px-Binary_logarithm_plot_with_ticks.svg.png\" width=\"300\">"
   ]
  },
  {
   "cell_type": "code",
   "execution_count": 6,
   "metadata": {
    "id": "3OTRgQE10cwd",
    "outputId": "c9983fb7-75d3-459a-fb4b-b4e103848beb"
   },
   "outputs": [
    {
     "data": {
      "text/plain": [
       "array([[<AxesSubplot:title={'center':'Recency'}>,\n",
       "        <AxesSubplot:title={'center':'Frequency'}>],\n",
       "       [<AxesSubplot:title={'center':'MonetaryValue'}>, <AxesSubplot:>]],\n",
       "      dtype=object)"
      ]
     },
     "execution_count": 6,
     "metadata": {},
     "output_type": "execute_result"
    },
    {
     "data": {
      "image/png": "[encoded data removed]",
      "text/plain": [
       "<Figure size 864x432 with 4 Axes>"
      ]
     },
     "metadata": {
      "needs_background": "light"
     },
     "output_type": "display_data"
    }
   ],
   "source": [
    "# np.log1p 메서드를 사용하여 값들을 정규화 시켜주고, rfm_cluster_log 변수에 담습니다.\n",
    "# 정규화시 np.log보다 np.log1p을 사용하는 이유는 x값이 1보다 작을 때, y값이 음의 무한대로 가는 것을 방지하기 위함입니다.\n",
    "# 정규화를 함으로써 각 속성별로 다양한 수의 범위를 줄여줄 수 있습니다.\n",
    "\n",
    "rfm_cluster_log = np.log1p(rfm_cluster) # log(rfm_cluster + 1)\n",
    "rfm_cluster_log\n",
    "rfm_cluster_log.hist(figsize = (12,6), bins = 100)"
   ]
  },
  {
   "cell_type": "markdown",
   "metadata": {
    "id": "jt7TwGY40cwe"
   },
   "source": [
    "## 스케일 조정하기"
   ]
  },
  {
   "cell_type": "code",
   "execution_count": 7,
   "metadata": {
    "id": "TL_0r-e30cwf",
    "outputId": "6faf0c79-9c86-45e7-dada-336132377692"
   },
   "outputs": [
    {
     "data": {
      "text/plain": [
       "StandardScaler()"
      ]
     },
     "execution_count": 7,
     "metadata": {},
     "output_type": "execute_result"
    }
   ],
   "source": [
    "# StandardScaler 메서드를 사용하여 속성 값의 범위가 크게 차이 나지 않도록 평균 0, 분산 1로 조정해 줍니다.\n",
    "\n",
    "from sklearn.preprocessing import StandardScaler\n",
    "scaler = StandardScaler()\n",
    "scaler.fit(rfm_cluster_log)"
   ]
  },
  {
   "cell_type": "code",
   "execution_count": 8,
   "metadata": {
    "id": "UZY6fewH0cwf",
    "outputId": "30c1f26b-bb68-4ba3-a4ce-c504a64b3efc"
   },
   "outputs": [
    {
     "data": {
      "text/plain": [
       "array([[ 1.46190736, -2.43788926,  3.71030846],\n",
       "       [-2.0405272 ,  1.18891259,  1.41710205],\n",
       "       [ 0.37248773, -0.211389  ,  0.72210361],\n",
       "       ...,\n",
       "       [-1.22033272, -0.93475683, -1.11156693],\n",
       "       [-1.65915848,  2.2911166 ,  0.82490915],\n",
       "       [-0.03554715,  0.42858907,  0.73960806]])"
      ]
     },
     "execution_count": 8,
     "metadata": {},
     "output_type": "execute_result"
    }
   ],
   "source": [
    "# fit_transform 메서드를 사용하여 rfm_cluster_log를 rfm_norm 변수에 담습니다.\n",
    "\n",
    "rfm_norm = scaler.fit_transform(rfm_cluster_log)\n",
    "rfm_norm"
   ]
  },
  {
   "cell_type": "markdown",
   "metadata": {
    "id": "oKN9MyjF0cwg"
   },
   "source": [
    "### K-Means 모델 학습"
   ]
  },
  {
   "cell_type": "code",
   "execution_count": 15,
   "metadata": {
    "id": "qsraLt3j0cwg"
   },
   "outputs": [],
   "source": [
    "inertia = []\n",
    "# rfm_norm 값을 학습하고\n",
    "# 리스트에 inertia_ 값을 넣어 elbow 값을 봅니다.\n",
    "\n",
    "from sklearn.cluster import KMeans\n",
    "\n",
    "for i in range(1,20) :\n",
    "    kmeans = KMeans(n_clusters = i, random_state = 42)\n",
    "    kmeans.fit(rfm_norm)\n",
    "    inertia.append(kmeans.inertia_)"
   ]
  },
  {
   "cell_type": "markdown",
   "metadata": {
    "id": "X5wag0yO0cwg"
   },
   "source": [
    "## 시각화"
   ]
  },
  {
   "cell_type": "code",
   "execution_count": 16,
   "metadata": {
    "id": "kVzwsUGd0cwg",
    "outputId": "d8d63e10-1077-4b43-b25e-99dedb67c680"
   },
   "outputs": [
    {
     "data": {
      "image/png": "[encoded data removed]",
      "text/plain": [
       "<Figure size 1080x288 with 1 Axes>"
      ]
     },
     "metadata": {
      "needs_background": "light"
     },
     "output_type": "display_data"
    }
   ],
   "source": [
    "# The Elbow Method 그래프에서 급격히 떨어지는 구간을 확인하여, 적절한 K값을 확인해 봅니다.\n",
    "\n",
    "plt.figure(figsize=(15,4))\n",
    "plt.plot(range(1, 20), inertia)\n",
    "plt.title('The Elbow Method')\n",
    "plt.xlabel('Number of clusters')\n",
    "plt.ylabel('Within-Cluster Sum of Square')\n",
    "plt.xticks(range(1, 20))\n",
    "plt.grid(True)\n",
    "plt.show()"
   ]
  },
  {
   "cell_type": "code",
   "execution_count": 19,
   "metadata": {
    "id": "SZweQF6M0cwh",
    "outputId": "a8d3abce-255c-445c-f794-77fa9a7e784e"
   },
   "outputs": [
    {
     "data": {
      "text/plain": [
       "KMeans(n_clusters=5, random_state=42)"
      ]
     },
     "execution_count": 19,
     "metadata": {},
     "output_type": "execute_result"
    }
   ],
   "source": [
    "# n_clusters의 수를 늘려 봅니다.\n",
    "kmeans = KMeans(n_clusters = 5, random_state = 42)\n",
    "kmeans.fit(rfm_norm)"
   ]
  },
  {
   "cell_type": "code",
   "execution_count": 24,
   "metadata": {
    "id": "44gAcICN0cwh",
    "outputId": "289be557-a84a-478a-a41e-e3d57666db45"
   },
   "outputs": [
    {
     "data": {
      "text/plain": [
       "array([[-1.35975328,  1.33399036,  1.38858251],\n",
       "       [ 0.82352018, -0.27961079, -0.31657062],\n",
       "       [-0.00889614,  0.66557371,  0.62457257],\n",
       "       [-0.82827734, -0.27764174, -0.35994432],\n",
       "       [ 0.83560811, -1.36471241, -1.22131938]])"
      ]
     },
     "execution_count": 24,
     "metadata": {},
     "output_type": "execute_result"
    }
   ],
   "source": [
    "# cluster_centers_를 통해서 좌표값을 출력해 봅니다.\n",
    "kmeans.cluster_centers_"
   ]
  },
  {
   "cell_type": "code",
   "execution_count": 25,
   "metadata": {
    "id": "dgn8l6TF0cwi",
    "outputId": "daa72213-97fb-4a57-a923-068afe571d69"
   },
   "outputs": [
    {
     "data": {
      "text/plain": [
       "array([1, 0, 2, ..., 3, 0, 2])"
      ]
     },
     "execution_count": 25,
     "metadata": {},
     "output_type": "execute_result"
    }
   ],
   "source": [
    "# labels_를 통해서 어떤 클러스터에 속하는지 확인합니다.\n",
    "kmeans.labels_"
   ]
  },
  {
   "cell_type": "code",
   "execution_count": 26,
   "metadata": {
    "id": "XU9N7JBI0cwi",
    "outputId": "8daabb48-5a32-41ad-a97e-4a0a79e88633"
   },
   "outputs": [],
   "source": [
    "# rfm['Cluster']에 kmeans.labels_ 값을 담아줍니다.\n",
    "\n",
    "rfm['Cluster'] = kmeans.labels_"
   ]
  },
  {
   "cell_type": "code",
   "execution_count": 27,
   "metadata": {
    "id": "hogjNv450cwj",
    "outputId": "e5c89be1-7813-4e50-eca8-63bce8b2559b"
   },
   "outputs": [
    {
     "data": {
      "text/plain": [
       "<AxesSubplot:xlabel='Cluster', ylabel='RFM_score'>"
      ]
     },
     "execution_count": 27,
     "metadata": {},
     "output_type": "execute_result"
    },
    {
     "data": {
      "image/png": "[encoded data removed]",
      "text/plain": [
       "<Figure size 432x288 with 1 Axes>"
      ]
     },
     "metadata": {
      "needs_background": "light"
     },
     "output_type": "display_data"
    }
   ],
   "source": [
    "# Cluster와 RFM_score의 상관관계를 살펴보기 위해 scatterplot으로 산점도를 출력해 봅니다.(RFM_class를 통해 데이터를 구분할 수 있습니다.)\n",
    "sns.scatterplot(data=rfm, x='Cluster', y = \"RFM_score\", hue = \"RFM_class\")"
   ]
  },
  {
   "cell_type": "code",
   "execution_count": 28,
   "metadata": {
    "id": "UmClht0t0cwj",
    "outputId": "8c7e8e98-203b-45bc-8aea-6f4742d2f0b5"
   },
   "outputs": [
    {
     "data": {
      "text/plain": [
       "<AxesSubplot:xlabel='Cluster', ylabel='RFM_score'>"
      ]
     },
     "execution_count": 28,
     "metadata": {},
     "output_type": "execute_result"
    },
    {
     "data": {
      "image/png": "[encoded data removed]",
      "text/plain": [
       "<Figure size 432x288 with 1 Axes>"
      ]
     },
     "metadata": {
      "needs_background": "light"
     },
     "output_type": "display_data"
    }
   ],
   "source": [
    "# stripplot은 scatterplot과 유사하나 데이터가 겹치면 양 옆으로 흩어진 형태를 보입니다.\n",
    "sns.stripplot(data = rfm, x= \"Cluster\", y = \"RFM_score\", hue = \"RFM_class\")"
   ]
  },
  {
   "cell_type": "code",
   "execution_count": null,
   "metadata": {
    "id": "v3pEF5d90cwj",
    "outputId": "857e4a98-52a4-4e92-90e1-1d6c1ffabf4c"
   },
   "outputs": [],
   "source": [
    "# MonetaryValue와 RFM_score의 상관관계를 살펴보기 위해 scatterplot으로 산점도를 출력해 봅니다.\n",
    "# RFM_class를 통해 데이터를 구분할 수 있습니다.\n"
   ]
  },
  {
   "cell_type": "code",
   "execution_count": null,
   "metadata": {
    "id": "UkFDNaAK0cwk",
    "outputId": "6c83eb1c-c9d8-4dca-bb81-8d7fbeba5816"
   },
   "outputs": [],
   "source": [
    "# Frequency와 RFM_score의 살펴보기 위해 산점도를 출력해 봅니다.\n",
    "# RFM_class를 통해 데이터를 구분할 수 있습니다.\n"
   ]
  },
  {
   "cell_type": "code",
   "execution_count": null,
   "metadata": {
    "id": "TJrO7giN0cwk",
    "outputId": "dd925ae6-4537-4a26-f7c2-15abd3bb0b49"
   },
   "outputs": [],
   "source": [
    "# pairplot을 통해 rfm의 데이터 중 무작위로 1000개의 데이터만을 추출해 pairplot을 시각화 합니다.\n",
    "# RFM_class를 통해 데이터를 구분할 수 있습니다.\n"
   ]
  }
 ],
 "metadata": {
  "colab": {
   "collapsed_sections": [],
   "name": "03-clustering.ipynb",
   "provenance": []
  },
  "kernelspec": {
   "display_name": "Python 3",
   "language": "python",
   "name": "python3"
  },
  "language_info": {
   "codemirror_mode": {
    "name": "ipython",
    "version": 3
   },
   "file_extension": ".py",
   "mimetype": "text/x-python",
   "name": "python",
   "nbconvert_exporter": "python",
   "pygments_lexer": "ipython3",
   "version": "3.8.8"
  },
  "toc": {
   "base_numbering": 1,
   "nav_menu": {},
   "number_sections": true,
   "sideBar": true,
   "skip_h1_title": false,
   "title_cell": "Table of Contents",
   "title_sidebar": "Contents",
   "toc_cell": false,
   "toc_position": {},
   "toc_section_display": true,
   "toc_window_display": false
  },
  "varInspector": {
   "cols": {
    "lenName": 16,
    "lenType": 16,
    "lenVar": 40
   },
   "kernels_config": {
    "python": {
     "delete_cmd_postfix": "",
     "delete_cmd_prefix": "del ",
     "library": "var_list.py",
     "varRefreshCmd": "print(var_dic_list())"
    },
    "r": {
     "delete_cmd_postfix": ") ",
     "delete_cmd_prefix": "rm(",
     "library": "var_list.r",
     "varRefreshCmd": "cat(var_dic_list()) "
    }
   },
   "types_to_exclude": [
    "module",
    "function",
    "builtin_function_or_method",
    "instance",
    "_Feature"
   ],
   "window_display": false
  }
 },
 "nbformat": 4,
 "nbformat_minor": 1
}
