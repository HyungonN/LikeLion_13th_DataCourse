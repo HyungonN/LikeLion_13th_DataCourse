{
 "cells": [
  {
   "cell_type": "code",
   "execution_count": 1,
   "metadata": {},
   "outputs": [
    {
     "name": "stdout",
     "output_type": "stream",
     "text": [
      "Requirement already satisfied: gurobipy in c:\\anaconda3\\lib\\site-packages (9.1.2)\n",
      "Note: you may need to restart the kernel to use updated packages.\n"
     ]
    }
   ],
   "source": [
    "pip install gurobipy"
   ]
  },
  {
   "cell_type": "code",
   "execution_count": 2,
   "metadata": {},
   "outputs": [],
   "source": [
    "from gurobipy import *\n",
    "import numpy as np\n",
    "import matplotlib.pyplot as plt\n",
    "import pandas as pd"
   ]
  },
  {
   "cell_type": "code",
   "execution_count": 9,
   "metadata": {},
   "outputs": [],
   "source": [
    "seoul = pd.read_csv('서울_격자_건축인구데이터2.csv', encoding='cp949')"
   ]
  },
  {
   "cell_type": "code",
   "execution_count": 10,
   "metadata": {},
   "outputs": [
    {
     "name": "stdout",
     "output_type": "stream",
     "text": [
      "<class 'pandas.core.frame.DataFrame'>\n",
      "RangeIndex: 99 entries, 0 to 98\n",
      "Data columns (total 5 columns):\n",
      " #   Column   Non-Null Count  Dtype \n",
      "---  ------   --------------  ----- \n",
      " 0   x        99 non-null     int64 \n",
      " 1   y        99 non-null     int64 \n",
      " 2   gid      99 non-null     object\n",
      " 3   str_val  99 non-null     int64 \n",
      " 4   pop_val  99 non-null     int64 \n",
      "dtypes: int64(4), object(1)\n",
      "memory usage: 4.0+ KB\n"
     ]
    }
   ],
   "source": [
    "seoul.info()"
   ]
  },
  {
   "cell_type": "code",
   "execution_count": 12,
   "metadata": {},
   "outputs": [],
   "source": [
    "X = seoul['x']\n",
    "Y = seoul['y']\n",
    "demanda = seoul['pop_val']\n",
    "N=50"
   ]
  },
  {
   "cell_type": "code",
   "execution_count": 13,
   "metadata": {},
   "outputs": [],
   "source": [
    "# #Nodos:\n",
    "# N=31\n",
    "\n",
    "# #Coordenades:\n",
    "# np.random.seed(1)\n",
    "# X = list(np.random.random(N)*100)\n",
    "# Y = list(np.random.random(N)*100)\n",
    "\n",
    "# #Demanda\n",
    "# demanda = list(np.random.randint(low=10,high=50,size=N))"
   ]
  },
  {
   "cell_type": "code",
   "execution_count": 14,
   "metadata": {},
   "outputs": [
    {
     "data": {
      "image/png": "[encoded data removed]",
      "text/plain": [
       "<Figure size 864x360 with 1 Axes>"
      ]
     },
     "metadata": {
      "needs_background": "light"
     },
     "output_type": "display_data"
    }
   ],
   "source": [
    "#Graficar:\n",
    "plt.figure(figsize=(12,5))\n",
    "plt.scatter(X,Y,color='blue')\n",
    "\n",
    "for i in range(len(X)):\n",
    "  plt.annotate('$d_{%d}=%d$' %(i, demanda[i]), (X[i]-0.5, Y[i]-5))\n",
    "\n",
    "plt.xlabel('gje X')\n",
    "plt.ylabel('gje Y')\n",
    "plt.title('Nodos')\n",
    "plt.show()"
   ]
  },
  {
   "cell_type": "code",
   "execution_count": 15,
   "metadata": {},
   "outputs": [],
   "source": [
    "# Set o Conjuntos\n",
    "nodos = [i for i in range(N)]\n",
    "\n",
    "ubicaciones = [i for i in nodos]\n",
    "arcos = [(i,j) for i in nodos for j in ubicaciones]\n",
    "#Maximo numero de ubicaciones\n",
    "P=5\n",
    "\n",
    "#Matrix de Distancia:\n",
    "distancia = {(i,j): np.hypot (X[i]-X[j], Y[i]-Y[j]) for i in nodos for j in ubicaciones}"
   ]
  },
  {
   "cell_type": "code",
   "execution_count": 16,
   "metadata": {},
   "outputs": [
    {
     "name": "stdout",
     "output_type": "stream",
     "text": [
      "Restricted license - for non-production use only - expires 2022-01-13\n",
      "Gurobi Optimizer version 9.1.2 build v9.1.2rc0 (win64)\n",
      "Thread count: 2 physical cores, 4 logical processors, using up to 4 threads\n"
     ]
    },
    {
     "ename": "GurobiError",
     "evalue": "Model too large for size-limited license; visit https://www.gurobi.com/free-trial for a full license",
     "output_type": "error",
     "traceback": [
      "\u001b[1;31m---------------------------------------------------------------------------\u001b[0m",
      "\u001b[1;31mGurobiError\u001b[0m                               Traceback (most recent call last)",
      "\u001b[1;32m<ipython-input-16-588a7fb79413>\u001b[0m in \u001b[0;36m<module>\u001b[1;34m\u001b[0m\n\u001b[0;32m     14\u001b[0m \u001b[0mmodel\u001b[0m\u001b[1;33m.\u001b[0m\u001b[0maddConstrs\u001b[0m\u001b[1;33m(\u001b[0m\u001b[0mx\u001b[0m\u001b[1;33m[\u001b[0m\u001b[0mi\u001b[0m\u001b[1;33m,\u001b[0m\u001b[0mj\u001b[0m\u001b[1;33m]\u001b[0m\u001b[1;33m-\u001b[0m\u001b[0my\u001b[0m\u001b[1;33m[\u001b[0m\u001b[0mj\u001b[0m\u001b[1;33m]\u001b[0m \u001b[1;33m<=\u001b[0m \u001b[1;36m0\u001b[0m \u001b[1;32mfor\u001b[0m \u001b[0mi\u001b[0m \u001b[1;32min\u001b[0m \u001b[0mnodos\u001b[0m \u001b[1;32mfor\u001b[0m \u001b[0mj\u001b[0m \u001b[1;32min\u001b[0m \u001b[0mubicaciones\u001b[0m\u001b[1;33m)\u001b[0m\u001b[1;33m\u001b[0m\u001b[1;33m\u001b[0m\u001b[0m\n\u001b[0;32m     15\u001b[0m \u001b[1;33m\u001b[0m\u001b[0m\n\u001b[1;32m---> 16\u001b[1;33m \u001b[0mmodel\u001b[0m\u001b[1;33m.\u001b[0m\u001b[0moptimize\u001b[0m\u001b[1;33m(\u001b[0m\u001b[1;33m)\u001b[0m\u001b[1;33m\u001b[0m\u001b[1;33m\u001b[0m\u001b[0m\n\u001b[0m",
      "\u001b[1;32msrc\\gurobipy\\model.pxi\u001b[0m in \u001b[0;36mgurobipy.Model.optimize\u001b[1;34m()\u001b[0m\n",
      "\u001b[1;31mGurobiError\u001b[0m: Model too large for size-limited license; visit https://www.gurobi.com/free-trial for a full license"
     ]
    }
   ],
   "source": [
    "#P-median\n",
    "model = Model('P-Median')\n",
    "\n",
    "#variable de dicision:\n",
    "x = model.addVars(arcos,vtype = GRB.BINARY, name = 'x')\n",
    "y = model.addVars(ubicaciones,vtype = GRB.BINARY, name = 'y')\n",
    "\n",
    "#function objectivo:\n",
    "model.setObjective(quicksum(distancia[i,j]*x[i,j] for i,j in arcos),GRB.MINIMIZE)\n",
    "\n",
    "#Restricciones\n",
    "model.addConstrs(quicksum(x[i,j] for j in ubicaciones) == 1 for i in nodos)\n",
    "model.addConstr(quicksum(y[j] for j in ubicaciones) <= P)\n",
    "model.addConstrs(x[i,j]-y[j] <= 0 for i in nodos for j in ubicaciones)\n",
    "\n",
    "model.optimize()"
   ]
  },
  {
   "cell_type": "code",
   "execution_count": null,
   "metadata": {},
   "outputs": [],
   "source": [
    "#Arcos Activos:\n",
    "arcos_activos = [ k for k in arcos if x[k].x >0.9]\n",
    "print(arcos_activos)"
   ]
  },
  {
   "cell_type": "code",
   "execution_count": null,
   "metadata": {},
   "outputs": [],
   "source": [
    "#ubicaciones Activos:\n",
    "ubicaciones_activos = [ k for k in ubicaciones if y[k].x >0.9]\n",
    "print(ubicaciones_activos)"
   ]
  },
  {
   "cell_type": "code",
   "execution_count": null,
   "metadata": {},
   "outputs": [],
   "source": [
    "#Graficar la solucion\n",
    "from colour import Color\n",
    "\n",
    "plt.figure(figsize=(12,5))\n",
    "plt.scatter(X,Y,color='blue')\n",
    "\n",
    "for n in ubicaciones_activos:\n",
    "  plt.scatter(X[n],Y[n], color='red',marker='D')\n",
    "\n",
    "for i in range(len(X)):\n",
    "  plt.annotate( '$d_{%d}=%d$' %(i,demanda[i]),(X[i]-0.5,Y[i]-5))\n",
    "\n",
    "# # 얘 넣으면 오류뜸 줄 표현하는거\n",
    "#  for n in arcos_activos:\n",
    "#    i=n[0]\n",
    "#    j=n[1]\n",
    "#    plt.plot([X[i],X[j]],[Y[i],Y[j]],color=Color(ubicaciones_activos.index(j)))\n",
    "\n",
    "plt.xlabel('Eje X')\n",
    "plt.ylabel('Eje Y')\n",
    "plt.title('Nodos')\n",
    "plt.show()"
   ]
  },
  {
   "cell_type": "code",
   "execution_count": null,
   "metadata": {},
   "outputs": [],
   "source": []
  }
 ],
 "metadata": {
  "kernelspec": {
   "display_name": "Python 3",
   "language": "python",
   "name": "python3"
  },
  "language_info": {
   "codemirror_mode": {
    "name": "ipython",
    "version": 3
   },
   "file_extension": ".py",
   "mimetype": "text/x-python",
   "name": "python",
   "nbconvert_exporter": "python",
   "pygments_lexer": "ipython3",
   "version": "3.8.8"
  }
 },
 "nbformat": 4,
 "nbformat_minor": 2
}
