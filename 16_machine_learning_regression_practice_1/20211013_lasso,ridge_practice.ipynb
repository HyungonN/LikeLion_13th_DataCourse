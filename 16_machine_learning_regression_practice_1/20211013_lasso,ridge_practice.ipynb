{
 "cells": [
  {
   "cell_type": "code",
   "execution_count": 1,
   "id": "4020929b",
   "metadata": {},
   "outputs": [],
   "source": [
    "import mglearn"
   ]
  },
  {
   "cell_type": "code",
   "execution_count": 41,
   "id": "d8e4378e",
   "metadata": {},
   "outputs": [],
   "source": [
    "from sklearn.datasets import load_boston\n",
    "from sklearn.model_selection import train_test_split\n",
    "from sklearn.preprocessing import MinMaxScaler, PolynomialFeatures\n",
    "from sklearn.linear_model import Lasso, Ridge, LinearRegression\n",
    "import pandas as pd"
   ]
  },
  {
   "cell_type": "code",
   "execution_count": 5,
   "id": "91252f74",
   "metadata": {},
   "outputs": [],
   "source": [
    "### 한글 폰트 설정\n",
    "import matplotlib\n",
    "from matplotlib import font_manager, rc\n",
    "import matplotlib.pyplot as plt\n",
    "import platform\n",
    "\n",
    "path = \"C:/Windows/Fonts/malgun.ttf\"\n",
    "if platform.system() == \"Windows\":\n",
    "    font_name = font_manager.FontProperties(fname=path).get_name()\n",
    "    rc('font', family=font_name)\n",
    "elif platform.system()==\"Darwin\":\n",
    "    rc('font', family='AppleGothic')\n",
    "else:\n",
    "    print(\"Unknown System\")\n",
    "    \n",
    "matplotlib.rcParams['axes.unicode_minus'] = False\n",
    "\n",
    "%matplotlib inline"
   ]
  },
  {
   "cell_type": "code",
   "execution_count": 6,
   "id": "01ecc228",
   "metadata": {},
   "outputs": [],
   "source": [
    "boston = load_boston()"
   ]
  },
  {
   "cell_type": "code",
   "execution_count": 23,
   "id": "5f0bebbb",
   "metadata": {},
   "outputs": [
    {
     "name": "stdout",
     "output_type": "stream",
     "text": [
      "<class 'numpy.ndarray'>\n"
     ]
    }
   ],
   "source": [
    "print(type(boston.data))"
   ]
  },
  {
   "cell_type": "code",
   "execution_count": 13,
   "id": "78a9cbaa",
   "metadata": {},
   "outputs": [
    {
     "data": {
      "text/plain": [
       "Index(['CRIM', 'ZN', 'INDUS', 'CHAS', 'NOX', 'RM', 'AGE', 'DIS', 'RAD', 'TAX',\n",
       "       'PTRATIO', 'B', 'LSTAT', 'price'],\n",
       "      dtype='object')"
      ]
     },
     "execution_count": 13,
     "metadata": {},
     "output_type": "execute_result"
    }
   ],
   "source": [
    "df_boston = pd.DataFrame(boston.data, columns = boston.feature_names)\n",
    "df_boston['price'] = pd.Series(boston.target)\n",
    "df_boston.columns"
   ]
  },
  {
   "cell_type": "code",
   "execution_count": 14,
   "id": "52e6c54d",
   "metadata": {},
   "outputs": [
    {
     "data": {
      "text/plain": [
       "(506, 13)"
      ]
     },
     "execution_count": 14,
     "metadata": {},
     "output_type": "execute_result"
    }
   ],
   "source": [
    "#입력과 출력 = x,y\n",
    "x= df_boston.loc[:,'CRIM':\"LSTAT\"]\n",
    "y = df_boston['price']\n",
    "\n",
    "x.shape"
   ]
  },
  {
   "cell_type": "code",
   "execution_count": 25,
   "id": "7393e490",
   "metadata": {},
   "outputs": [
    {
     "data": {
      "text/html": [
       "<div>\n",
       "<style scoped>\n",
       "    .dataframe tbody tr th:only-of-type {\n",
       "        vertical-align: middle;\n",
       "    }\n",
       "\n",
       "    .dataframe tbody tr th {\n",
       "        vertical-align: top;\n",
       "    }\n",
       "\n",
       "    .dataframe thead th {\n",
       "        text-align: right;\n",
       "    }\n",
       "</style>\n",
       "<table border=\"1\" class=\"dataframe\">\n",
       "  <thead>\n",
       "    <tr style=\"text-align: right;\">\n",
       "      <th></th>\n",
       "      <th>CRIM</th>\n",
       "      <th>ZN</th>\n",
       "      <th>INDUS</th>\n",
       "      <th>CHAS</th>\n",
       "      <th>NOX</th>\n",
       "      <th>RM</th>\n",
       "      <th>AGE</th>\n",
       "      <th>DIS</th>\n",
       "      <th>RAD</th>\n",
       "      <th>TAX</th>\n",
       "      <th>PTRATIO</th>\n",
       "      <th>B</th>\n",
       "      <th>LSTAT</th>\n",
       "    </tr>\n",
       "  </thead>\n",
       "  <tbody>\n",
       "    <tr>\n",
       "      <th>0</th>\n",
       "      <td>0.00632</td>\n",
       "      <td>18.0</td>\n",
       "      <td>2.31</td>\n",
       "      <td>0.0</td>\n",
       "      <td>0.538</td>\n",
       "      <td>6.575</td>\n",
       "      <td>65.2</td>\n",
       "      <td>4.0900</td>\n",
       "      <td>1.0</td>\n",
       "      <td>296.0</td>\n",
       "      <td>15.3</td>\n",
       "      <td>396.90</td>\n",
       "      <td>4.98</td>\n",
       "    </tr>\n",
       "    <tr>\n",
       "      <th>1</th>\n",
       "      <td>0.02731</td>\n",
       "      <td>0.0</td>\n",
       "      <td>7.07</td>\n",
       "      <td>0.0</td>\n",
       "      <td>0.469</td>\n",
       "      <td>6.421</td>\n",
       "      <td>78.9</td>\n",
       "      <td>4.9671</td>\n",
       "      <td>2.0</td>\n",
       "      <td>242.0</td>\n",
       "      <td>17.8</td>\n",
       "      <td>396.90</td>\n",
       "      <td>9.14</td>\n",
       "    </tr>\n",
       "    <tr>\n",
       "      <th>2</th>\n",
       "      <td>0.02729</td>\n",
       "      <td>0.0</td>\n",
       "      <td>7.07</td>\n",
       "      <td>0.0</td>\n",
       "      <td>0.469</td>\n",
       "      <td>7.185</td>\n",
       "      <td>61.1</td>\n",
       "      <td>4.9671</td>\n",
       "      <td>2.0</td>\n",
       "      <td>242.0</td>\n",
       "      <td>17.8</td>\n",
       "      <td>392.83</td>\n",
       "      <td>4.03</td>\n",
       "    </tr>\n",
       "    <tr>\n",
       "      <th>3</th>\n",
       "      <td>0.03237</td>\n",
       "      <td>0.0</td>\n",
       "      <td>2.18</td>\n",
       "      <td>0.0</td>\n",
       "      <td>0.458</td>\n",
       "      <td>6.998</td>\n",
       "      <td>45.8</td>\n",
       "      <td>6.0622</td>\n",
       "      <td>3.0</td>\n",
       "      <td>222.0</td>\n",
       "      <td>18.7</td>\n",
       "      <td>394.63</td>\n",
       "      <td>2.94</td>\n",
       "    </tr>\n",
       "    <tr>\n",
       "      <th>4</th>\n",
       "      <td>0.06905</td>\n",
       "      <td>0.0</td>\n",
       "      <td>2.18</td>\n",
       "      <td>0.0</td>\n",
       "      <td>0.458</td>\n",
       "      <td>7.147</td>\n",
       "      <td>54.2</td>\n",
       "      <td>6.0622</td>\n",
       "      <td>3.0</td>\n",
       "      <td>222.0</td>\n",
       "      <td>18.7</td>\n",
       "      <td>396.90</td>\n",
       "      <td>5.33</td>\n",
       "    </tr>\n",
       "  </tbody>\n",
       "</table>\n",
       "</div>"
      ],
      "text/plain": [
       "      CRIM    ZN  INDUS  CHAS    NOX     RM   AGE     DIS  RAD    TAX  \\\n",
       "0  0.00632  18.0   2.31   0.0  0.538  6.575  65.2  4.0900  1.0  296.0   \n",
       "1  0.02731   0.0   7.07   0.0  0.469  6.421  78.9  4.9671  2.0  242.0   \n",
       "2  0.02729   0.0   7.07   0.0  0.469  7.185  61.1  4.9671  2.0  242.0   \n",
       "3  0.03237   0.0   2.18   0.0  0.458  6.998  45.8  6.0622  3.0  222.0   \n",
       "4  0.06905   0.0   2.18   0.0  0.458  7.147  54.2  6.0622  3.0  222.0   \n",
       "\n",
       "   PTRATIO       B  LSTAT  \n",
       "0     15.3  396.90   4.98  \n",
       "1     17.8  396.90   9.14  \n",
       "2     17.8  392.83   4.03  \n",
       "3     18.7  394.63   2.94  \n",
       "4     18.7  396.90   5.33  "
      ]
     },
     "execution_count": 25,
     "metadata": {},
     "output_type": "execute_result"
    }
   ],
   "source": [
    "x.head()"
   ]
  },
  {
   "cell_type": "code",
   "execution_count": 27,
   "id": "073d9f5b",
   "metadata": {},
   "outputs": [
    {
     "name": "stdout",
     "output_type": "stream",
     "text": [
      "[[0.00000000e+00 1.80000000e-01 6.78152493e-02 ... 2.87234043e-01\n",
      "  1.00000000e+00 8.96799117e-02]\n",
      " [2.35922539e-04 0.00000000e+00 2.42302053e-01 ... 5.53191489e-01\n",
      "  1.00000000e+00 2.04470199e-01]\n",
      " [2.35697744e-04 0.00000000e+00 2.42302053e-01 ... 5.53191489e-01\n",
      "  9.89737254e-01 6.34657837e-02]\n",
      " ...\n",
      " [6.11892474e-04 0.00000000e+00 4.20454545e-01 ... 8.93617021e-01\n",
      "  1.00000000e+00 1.07891832e-01]\n",
      " [1.16072990e-03 0.00000000e+00 4.20454545e-01 ... 8.93617021e-01\n",
      "  9.91300620e-01 1.31070640e-01]\n",
      " [4.61841693e-04 0.00000000e+00 4.20454545e-01 ... 8.93617021e-01\n",
      "  1.00000000e+00 1.69701987e-01]]\n"
     ]
    }
   ],
   "source": [
    "#데이터 정규화 : min~ max = 0~!\n",
    "nor_X = MinMaxScaler().fit_transform(x)\n",
    "print(nor_X)"
   ]
  },
  {
   "cell_type": "code",
   "execution_count": 34,
   "id": "be192ae7",
   "metadata": {},
   "outputs": [
    {
     "data": {
      "text/plain": [
       "0.0"
      ]
     },
     "execution_count": 34,
     "metadata": {},
     "output_type": "execute_result"
    }
   ],
   "source": [
    "import numpy as np\n",
    "np.min(nor_X)"
   ]
  },
  {
   "cell_type": "code",
   "execution_count": 37,
   "id": "9ff14a0f",
   "metadata": {},
   "outputs": [
    {
     "name": "stdout",
     "output_type": "stream",
     "text": [
      "(506, 104) (506,)\n"
     ]
    }
   ],
   "source": [
    "ex_X = PolynomialFeatures(degree = 2, include_bias = False).fit_transform(nor_X)\n",
    "print(ex_X.shape, y.shape)"
   ]
  },
  {
   "cell_type": "code",
   "execution_count": 39,
   "id": "4ed50170",
   "metadata": {},
   "outputs": [
    {
     "name": "stdout",
     "output_type": "stream",
     "text": [
      "          0     1         2    3         4         5         6         7    \\\n",
      "0    0.000000  0.18  0.067815  0.0  0.314815  0.577505  0.641607  0.269203   \n",
      "1    0.000236  0.00  0.242302  0.0  0.172840  0.547998  0.782698  0.348962   \n",
      "2    0.000236  0.00  0.242302  0.0  0.172840  0.694386  0.599382  0.348962   \n",
      "3    0.000293  0.00  0.063050  0.0  0.150206  0.658555  0.441813  0.448545   \n",
      "4    0.000705  0.00  0.063050  0.0  0.150206  0.687105  0.528321  0.448545   \n",
      "..        ...   ...       ...  ...       ...       ...       ...       ...   \n",
      "501  0.000633  0.00  0.420455  0.0  0.386831  0.580954  0.681771  0.122671   \n",
      "502  0.000438  0.00  0.420455  0.0  0.386831  0.490324  0.760041  0.105293   \n",
      "503  0.000612  0.00  0.420455  0.0  0.386831  0.654340  0.907312  0.094381   \n",
      "504  0.001161  0.00  0.420455  0.0  0.386831  0.619467  0.889804  0.114514   \n",
      "505  0.000462  0.00  0.420455  0.0  0.386831  0.473079  0.802266  0.125072   \n",
      "\n",
      "          8         9    ...       94        95        96        97   \\\n",
      "0    0.000000  0.208015  ...  0.043270  0.059749  0.208015  0.018655   \n",
      "1    0.043478  0.104962  ...  0.011017  0.058064  0.104962  0.021462   \n",
      "2    0.043478  0.104962  ...  0.011017  0.058064  0.103885  0.006661   \n",
      "3    0.086957  0.066794  ...  0.004461  0.043345  0.066412  0.002230   \n",
      "4    0.086957  0.066794  ...  0.004461  0.043345  0.066794  0.006635   \n",
      "..        ...       ...  ...       ...       ...       ...       ...   \n",
      "501  0.000000  0.164122  ...  0.026936  0.146662  0.162090  0.035958   \n",
      "502  0.000000  0.164122  ...  0.026936  0.146662  0.164122  0.033286   \n",
      "503  0.000000  0.164122  ...  0.026936  0.146662  0.164122  0.017707   \n",
      "504  0.000000  0.164122  ...  0.026936  0.146662  0.162694  0.021512   \n",
      "505  0.000000  0.164122  ...  0.026936  0.146662  0.164122  0.027852   \n",
      "\n",
      "          98        99        100       101       102       103  \n",
      "0    0.082503  0.287234  0.025759  1.000000  0.089680  0.008042  \n",
      "1    0.306021  0.553191  0.113111  1.000000  0.204470  0.041808  \n",
      "2    0.306021  0.547514  0.035109  0.979580  0.062814  0.004028  \n",
      "3    0.421118  0.645222  0.021667  0.988585  0.033197  0.001115  \n",
      "4    0.421118  0.648936  0.064464  1.000000  0.099338  0.009868  \n",
      "..        ...       ...       ...       ...       ...       ...  \n",
      "501  0.798551  0.882553  0.195787  0.975392  0.216382  0.048003  \n",
      "502  0.798551  0.893617  0.181239  1.000000  0.202815  0.041134  \n",
      "503  0.798551  0.893617  0.096414  1.000000  0.107892  0.011641  \n",
      "504  0.798551  0.885843  0.117127  0.982677  0.129930  0.017180  \n",
      "505  0.798551  0.893617  0.151649  1.000000  0.169702  0.028799  \n",
      "\n",
      "[506 rows x 104 columns]\n"
     ]
    }
   ],
   "source": [
    "print(pd.DataFrame(ex_X))"
   ]
  },
  {
   "cell_type": "code",
   "execution_count": 42,
   "id": "105a9b7c",
   "metadata": {},
   "outputs": [
    {
     "name": "stdout",
     "output_type": "stream",
     "text": [
      "0.9448313975211593 0.7758378393351696\n"
     ]
    }
   ],
   "source": [
    "# feature를 많이 만든다음 계산한 것 -> 과대적합 발생\n",
    "X_train, X_test, y_train, y_test = train_test_split(ex_X, y, random_state = 42)\n",
    "ex_model = LinearRegression().fit(X_train,y_train)\n",
    "print(ex_model.score(X_train,y_train), ex_model.score(X_test, y_test))"
   ]
  },
  {
   "cell_type": "code",
   "execution_count": 44,
   "id": "8daa3085",
   "metadata": {},
   "outputs": [
    {
     "name": "stdout",
     "output_type": "stream",
     "text": [
      "0.7480872598623441 0.6844267283527123\n"
     ]
    }
   ],
   "source": [
    "#기존 모델\n",
    "X_train, X_test, y_train, y_test = train_test_split(x, y, random_state = 42)\n",
    "ex_model = LinearRegression().fit(X_train,y_train)\n",
    "print(ex_model.score(X_train,y_train), ex_model.score(X_test, y_test))"
   ]
  },
  {
   "cell_type": "code",
   "execution_count": 51,
   "id": "923f8ef2",
   "metadata": {},
   "outputs": [
    {
     "name": "stdout",
     "output_type": "stream",
     "text": [
      "0.7471467575228325 0.6986891802234085\n"
     ]
    }
   ],
   "source": [
    "#Lasso 모델 (alpha = 0.1)\n",
    "X_train, X_test, y_train, y_test = train_test_split(ex_X, y, random_state = 42)\n",
    "ex_model = Lasso(alpha = 0.1).fit(X_train,y_train)\n",
    "print(ex_model.score(X_train,y_train), ex_model.score(X_test, y_test))"
   ]
  },
  {
   "cell_type": "code",
   "execution_count": 46,
   "id": "2ed1b341",
   "metadata": {},
   "outputs": [
    {
     "name": "stdout",
     "output_type": "stream",
     "text": [
      "0.8700969775259919 0.8145421818415557\n"
     ]
    }
   ],
   "source": [
    "#Ridge 모델\n",
    "X_train, X_test, y_train, y_test = train_test_split(ex_X, y, random_state = 42)\n",
    "ex_model = Ridge().fit(X_train,y_train)\n",
    "print(ex_model.score(X_train,y_train), ex_model.score(X_test, y_test))"
   ]
  },
  {
   "cell_type": "code",
   "execution_count": 53,
   "id": "8ed7ad31",
   "metadata": {},
   "outputs": [
    {
     "name": "stdout",
     "output_type": "stream",
     "text": [
      "0.26783778369518485 0.2599232118344591\n",
      "0.7471467575228325 0.6986891802234085\n",
      "0.8865033777946087 0.8035922576420698\n",
      "0.9296864690381805 0.8141500652221192\n"
     ]
    },
    {
     "name": "stderr",
     "output_type": "stream",
     "text": [
      "C:\\anaconda3\\lib\\site-packages\\sklearn\\linear_model\\_coordinate_descent.py:530: ConvergenceWarning: Objective did not converge. You might want to increase the number of iterations. Duality gap: 6.8481333641466335, tolerance: 3.361037625329815\n",
      "  model = cd_fast.enet_coordinate_descent(\n",
      "C:\\anaconda3\\lib\\site-packages\\sklearn\\linear_model\\_coordinate_descent.py:530: ConvergenceWarning: Objective did not converge. You might want to increase the number of iterations. Duality gap: 864.3796550250488, tolerance: 3.361037625329815\n",
      "  model = cd_fast.enet_coordinate_descent(\n"
     ]
    }
   ],
   "source": [
    "#Lasso 모델 alpha값 찾기\n",
    "for i in range (4) :\n",
    "    a = 0.1**i\n",
    "    X_train, X_test, y_train, y_test = train_test_split(ex_X, y, random_state = 42)\n",
    "    ex_model = Lasso(alpha = a).fit(X_train,y_train)\n",
    "    print(ex_model.score(X_train,y_train), ex_model.score(X_test, y_test))"
   ]
  },
  {
   "cell_type": "code",
   "execution_count": 54,
   "id": "707ed83a",
   "metadata": {},
   "outputs": [
    {
     "name": "stdout",
     "output_type": "stream",
     "text": [
      "0.8700969775259919 0.8145421818415557\n",
      "0.9174870139232212 0.8246491875314644\n",
      "0.9357645261988862 0.8144760713008219\n",
      "0.9433698748903486 0.8060374994055752\n"
     ]
    }
   ],
   "source": [
    "#Ridge 모델 alpha값 찾기\n",
    "for i in range (4) :\n",
    "    a = 0.1**i\n",
    "    X_train, X_test, y_train, y_test = train_test_split(ex_X, y, random_state = 42)\n",
    "    ex_model = Ridge(alpha = a).fit(X_train,y_train)\n",
    "    print(ex_model.score(X_train,y_train), ex_model.score(X_test, y_test))"
   ]
  },
  {
   "cell_type": "code",
   "execution_count": 56,
   "id": "f7fbe813",
   "metadata": {},
   "outputs": [
    {
     "ename": "NameError",
     "evalue": "name 'lasso00001' is not defined",
     "output_type": "error",
     "traceback": [
      "\u001b[1;31m---------------------------------------------------------------------------\u001b[0m",
      "\u001b[1;31mNameError\u001b[0m                                 Traceback (most recent call last)",
      "\u001b[1;32m<ipython-input-56-2466ce0d7af7>\u001b[0m in \u001b[0;36m<module>\u001b[1;34m\u001b[0m\n\u001b[0;32m      2\u001b[0m \u001b[1;33m\u001b[0m\u001b[0m\n\u001b[0;32m      3\u001b[0m \u001b[0mplt\u001b[0m\u001b[1;33m.\u001b[0m\u001b[0mfigure\u001b[0m\u001b[1;33m(\u001b[0m\u001b[0mfigsize\u001b[0m\u001b[1;33m=\u001b[0m\u001b[1;33m(\u001b[0m\u001b[1;36m10\u001b[0m\u001b[1;33m,\u001b[0m\u001b[1;36m6\u001b[0m\u001b[1;33m)\u001b[0m\u001b[1;33m)\u001b[0m\u001b[1;33m\u001b[0m\u001b[1;33m\u001b[0m\u001b[0m\n\u001b[1;32m----> 4\u001b[1;33m \u001b[0mplt\u001b[0m\u001b[1;33m.\u001b[0m\u001b[0mplot\u001b[0m\u001b[1;33m(\u001b[0m\u001b[0mlasso00001\u001b[0m\u001b[1;33m.\u001b[0m\u001b[0mcoef_\u001b[0m\u001b[1;33m,\u001b[0m \u001b[1;34m\"r^\"\u001b[0m\u001b[1;33m,\u001b[0m \u001b[0mlabel\u001b[0m\u001b[1;33m=\u001b[0m\u001b[1;34m\"Lasso alpha=0.0001\"\u001b[0m\u001b[1;33m)\u001b[0m\u001b[1;33m\u001b[0m\u001b[1;33m\u001b[0m\u001b[0m\n\u001b[0m\u001b[0;32m      5\u001b[0m \u001b[0mplt\u001b[0m\u001b[1;33m.\u001b[0m\u001b[0mplot\u001b[0m\u001b[1;33m(\u001b[0m\u001b[0mlasso001\u001b[0m\u001b[1;33m.\u001b[0m\u001b[0mcoef_\u001b[0m\u001b[1;33m,\u001b[0m \u001b[1;34m'go'\u001b[0m\u001b[1;33m,\u001b[0m \u001b[0mlabel\u001b[0m\u001b[1;33m=\u001b[0m\u001b[1;34m\"Lasso alpha=0.01\"\u001b[0m\u001b[1;33m)\u001b[0m\u001b[1;33m\u001b[0m\u001b[1;33m\u001b[0m\u001b[0m\n\u001b[0;32m      6\u001b[0m \u001b[0mplt\u001b[0m\u001b[1;33m.\u001b[0m\u001b[0mplot\u001b[0m\u001b[1;33m(\u001b[0m\u001b[0mlasso01\u001b[0m\u001b[1;33m.\u001b[0m\u001b[0mcoef_\u001b[0m\u001b[1;33m,\u001b[0m \u001b[1;34m'yv'\u001b[0m\u001b[1;33m,\u001b[0m \u001b[0mlabel\u001b[0m\u001b[1;33m=\u001b[0m\u001b[1;34m\"Lasso alpha=0.1\"\u001b[0m\u001b[1;33m)\u001b[0m\u001b[1;33m\u001b[0m\u001b[1;33m\u001b[0m\u001b[0m\n",
      "\u001b[1;31mNameError\u001b[0m: name 'lasso00001' is not defined"
     ]
    },
    {
     "data": {
      "text/plain": [
       "<Figure size 720x432 with 0 Axes>"
      ]
     },
     "metadata": {},
     "output_type": "display_data"
    }
   ],
   "source": []
  },
  {
   "cell_type": "code",
   "execution_count": 57,
   "id": "d884c22e",
   "metadata": {},
   "outputs": [
    {
     "name": "stdout",
     "output_type": "stream",
     "text": [
      "학습용 데이터 세트 점수 :  0.0\n",
      "테스트 데이터 세트 점수 :  -0.03189647654769301\n",
      "사용한 특성의 수 :  0\n"
     ]
    }
   ],
   "source": [
    "lasso10 = Lasso(alpha=10, max_iter=100000).fit(X_train, y_train)\n",
    "print(\"학습용 데이터 세트 점수 : \",lasso10.score(X_train, y_train))\n",
    "print(\"테스트 데이터 세트 점수 : \",lasso10.score(X_test, y_test))\n",
    "print(\"사용한 특성의 수 : \", np.sum(lasso10.coef_ != 0))"
   ]
  },
  {
   "cell_type": "code",
   "execution_count": 58,
   "id": "aee62120",
   "metadata": {},
   "outputs": [
    {
     "name": "stdout",
     "output_type": "stream",
     "text": [
      "학습용 데이터 세트 점수 :  0.7471467575228325\n",
      "테스트 데이터 세트 점수 :  0.6986891802234085\n",
      "사용한 특성의 수 :  12\n"
     ]
    }
   ],
   "source": [
    "lasso01 = Lasso(alpha=0.1, max_iter=100000).fit(X_train, y_train)\n",
    "print(\"학습용 데이터 세트 점수 : \",lasso01.score(X_train, y_train))\n",
    "print(\"테스트 데이터 세트 점수 : \",lasso01.score(X_test, y_test))\n",
    "print(\"사용한 특성의 수 : \", np.sum(lasso01.coef_ != 0))"
   ]
  },
  {
   "cell_type": "code",
   "execution_count": 59,
   "id": "43305d69",
   "metadata": {},
   "outputs": [
    {
     "name": "stdout",
     "output_type": "stream",
     "text": [
      "학습용 데이터 세트 점수 :  0.8864717420585476\n",
      "테스트 데이터 세트 점수 :  0.8036004116583615\n",
      "사용한 특성의 수 :  34\n"
     ]
    }
   ],
   "source": [
    "lasso001 = Lasso(alpha=0.01, max_iter=100000).fit(X_train, y_train)\n",
    "print(\"학습용 데이터 세트 점수 : \",lasso001.score(X_train, y_train))\n",
    "print(\"테스트 데이터 세트 점수 : \",lasso001.score(X_test, y_test))\n",
    "print(\"사용한 특성의 수 : \", np.sum(lasso001.coef_ != 0))"
   ]
  },
  {
   "cell_type": "code",
   "execution_count": 60,
   "id": "dc37e312",
   "metadata": {},
   "outputs": [
    {
     "name": "stdout",
     "output_type": "stream",
     "text": [
      "학습용 데이터 세트 점수 : 0.27\n",
      "테스트 데이터 세트 점수 : 0.26\n",
      "학습용 데이터 점수 : 0.94\n",
      "테스트 데이터 점수 : 0.78\n",
      "학습용 데이터 점수 : 0.94\n",
      "테스트 데이터 점수 : 0.78\n",
      "사용한 특성의 수 :  102\n"
     ]
    },
    {
     "name": "stderr",
     "output_type": "stream",
     "text": [
      "C:\\anaconda3\\lib\\site-packages\\sklearn\\linear_model\\_coordinate_descent.py:530: ConvergenceWarning: Objective did not converge. You might want to increase the number of iterations. Duality gap: 1061.5581359471444, tolerance: 3.361037625329815\n",
      "  model = cd_fast.enet_coordinate_descent(\n",
      "C:\\anaconda3\\lib\\site-packages\\sklearn\\linear_model\\_coordinate_descent.py:530: ConvergenceWarning: Objective did not converge. You might want to increase the number of iterations. Duality gap: 1061.5581359471444, tolerance: 3.361037625329815\n",
      "  model = cd_fast.enet_coordinate_descent(\n"
     ]
    }
   ],
   "source": [
    "lasso = Lasso(alpha=1).fit(X_train, y_train)\n",
    "print(\"학습용 데이터 세트 점수 : {:.2f}\".format(lasso.score(X_train, y_train)))\n",
    "print(\"테스트 데이터 세트 점수 : {:.2f}\".format(lasso.score(X_test, y_test)))\n",
    "\n",
    "lasso00001 = Lasso(alpha=0.0001).fit(X_train, y_train)\n",
    "print(\"학습용 데이터 점수 : {:.2f}\".format(lasso00001.score(X_train, y_train)))\n",
    "print(\"테스트 데이터 점수 : {:.2f}\".format(lasso00001.score(X_test, y_test)))\n",
    "\n",
    "lasso00001 = Lasso(alpha=0.0001).fit(X_train, y_train)\n",
    "print(\"학습용 데이터 점수 : {:.2f}\".format(lasso00001.score(X_train, y_train)))\n",
    "print(\"테스트 데이터 점수 : {:.2f}\".format(lasso00001.score(X_test, y_test)))\n",
    "print(\"사용한 특성의 수 : \", np.sum(lasso00001.coef_ != 0))\n",
    "\n",
    "\n"
   ]
  },
  {
   "cell_type": "code",
   "execution_count": 61,
   "id": "5736ba95",
   "metadata": {},
   "outputs": [
    {
     "data": {
      "image/png": "[encoded data removed]",
      "text/plain": [
       "<Figure size 720x432 with 1 Axes>"
      ]
     },
     "metadata": {
      "needs_background": "light"
     },
     "output_type": "display_data"
    }
   ],
   "source": [
    "lasso = Lasso(alpha=1).fit(X_train, y_train)\n",
    "\n",
    "plt.figure(figsize=(10,6))\n",
    "plt.plot(lasso00001.coef_, \"r^\", label=\"Lasso alpha=0.0001\")\n",
    "plt.plot(lasso001.coef_, 'go', label=\"Lasso alpha=0.01\")\n",
    "plt.plot(lasso01.coef_, 'yv', label=\"Lasso alpha=0.1\")\n",
    "plt.plot(lasso.coef_, 'yv', label=\"Lasso alpha=1\")\n",
    "plt.plot(lasso10.coef_, \"bs\", label=\"Lasso alpha=10\")\n",
    "\n",
    "plt.xlabel(\"계수 목록\")\n",
    "plt.ylabel(\"계수 크기\")\n",
    "plt.ylim(-25, 25)\n",
    "plt.legend(ncol=2, loc=(0,1.05))\n",
    "plt.show()"
   ]
  },
  {
   "cell_type": "code",
   "execution_count": 62,
   "id": "e863629c",
   "metadata": {},
   "outputs": [
    {
     "name": "stdout",
     "output_type": "stream",
     "text": [
      "학습용 데이터 점수 : 0.94\n",
      "테스트 데이터 점수 : 0.79\n",
      "사용한 특성의 수 :  104\n",
      "학습용 데이터 점수 : 0.94\n",
      "테스트 데이터 점수 : 0.81\n",
      "사용한 특성의 수 :  104\n",
      "학습용 데이터 점수 : 0.94\n",
      "테스트 데이터 점수 : 0.81\n",
      "사용한 특성의 수 :  104\n",
      "학습용 데이터 점수 : 0.92\n",
      "테스트 데이터 점수 : 0.82\n",
      "사용한 특성의 수 :  104\n",
      "학습용 데이터 점수 : 0.87\n",
      "테스트 데이터 점수 : 0.81\n",
      "사용한 특성의 수 :  104\n",
      "학습용 데이터 점수 : 0.77\n",
      "테스트 데이터 점수 : 0.73\n",
      "사용한 특성의 수 :  104\n"
     ]
    }
   ],
   "source": [
    "ridge00001 = Ridge(alpha=0.0001).fit(X_train, y_train)\n",
    "print(\"학습용 데이터 점수 : {:.2f}\".format(ridge00001.score(X_train, y_train)))\n",
    "print(\"테스트 데이터 점수 : {:.2f}\".format(ridge00001.score(X_test, y_test)))\n",
    "print(\"사용한 특성의 수 : \", np.sum(ridge00001.coef_ != 0))\n",
    "\n",
    "ridge0001 = Ridge(alpha=0.001).fit(X_train, y_train)\n",
    "print(\"학습용 데이터 점수 : {:.2f}\".format(ridge0001.score(X_train, y_train)))\n",
    "print(\"테스트 데이터 점수 : {:.2f}\".format(ridge0001.score(X_test, y_test)))\n",
    "print(\"사용한 특성의 수 : \", np.sum(ridge0001.coef_ != 0))\n",
    "\n",
    "ridge001 = Ridge(alpha=0.01).fit(X_train, y_train)\n",
    "print(\"학습용 데이터 점수 : {:.2f}\".format(ridge001.score(X_train, y_train)))\n",
    "print(\"테스트 데이터 점수 : {:.2f}\".format(ridge001.score(X_test, y_test)))\n",
    "print(\"사용한 특성의 수 : \", np.sum(ridge001.coef_ != 0))\n",
    "\n",
    "ridge01 = Ridge(alpha=0.1).fit(X_train, y_train)\n",
    "print(\"학습용 데이터 점수 : {:.2f}\".format(ridge01.score(X_train, y_train)))\n",
    "print(\"테스트 데이터 점수 : {:.2f}\".format(ridge01.score(X_test, y_test)))\n",
    "print(\"사용한 특성의 수 : \", np.sum(ridge01.coef_ != 0))\n",
    "\n",
    "ridge1 = Ridge(alpha=1).fit(X_train, y_train)\n",
    "print(\"학습용 데이터 점수 : {:.2f}\".format(ridge1.score(X_train, y_train)))\n",
    "print(\"테스트 데이터 점수 : {:.2f}\".format(ridge1.score(X_test, y_test)))\n",
    "print(\"사용한 특성의 수 : \", np.sum(ridge1.coef_ != 0))\n",
    "\n",
    "ridge10 = Ridge(alpha=10).fit(X_train, y_train)\n",
    "print(\"학습용 데이터 점수 : {:.2f}\".format(ridge10.score(X_train, y_train)))\n",
    "print(\"테스트 데이터 점수 : {:.2f}\".format(ridge10.score(X_test, y_test)))\n",
    "print(\"사용한 특성의 수 : \", np.sum(ridge10.coef_ != 0))"
   ]
  },
  {
   "cell_type": "code",
   "execution_count": 65,
   "id": "53b21a39",
   "metadata": {},
   "outputs": [
    {
     "data": {
      "image/png": "[encoded data removed]",
      "text/plain": [
       "<Figure size 720x432 with 1 Axes>"
      ]
     },
     "metadata": {
      "needs_background": "light"
     },
     "output_type": "display_data"
    }
   ],
   "source": [
    "plt.figure(figsize=(10,6))\n",
    "plt.plot(ridge00001.coef_, \"r^\", label=\"ridge alpha=0.0001\")\n",
    "plt.plot(ridge001.coef_, 'go', label=\"ridge alpha=0.01\")\n",
    "plt.plot(ridge01.coef_, 'yv', label=\"ridge alpha=0.1\")\n",
    "plt.plot(ridge1.coef_, 'yv', label=\"ridge alpha=1\")\n",
    "plt.plot(ridge10.coef_, \"bs\", label=\"ridge alpha=10\")\n",
    "\n",
    "plt.xlabel(\"계수 목록\")\n",
    "plt.ylabel(\"계수 크기\")\n",
    "plt.ylim(-25, 25)\n",
    "plt.legend(ncol=2, loc=(0,1.05))\n",
    "plt.show()"
   ]
  },
  {
   "cell_type": "code",
   "execution_count": null,
   "id": "1b9dedfe",
   "metadata": {},
   "outputs": [],
   "source": []
  }
 ],
 "metadata": {
  "kernelspec": {
   "display_name": "Python 3",
   "language": "python",
   "name": "python3"
  },
  "language_info": {
   "codemirror_mode": {
    "name": "ipython",
    "version": 3
   },
   "file_extension": ".py",
   "mimetype": "text/x-python",
   "name": "python",
   "nbconvert_exporter": "python",
   "pygments_lexer": "ipython3",
   "version": "3.8.8"
  }
 },
 "nbformat": 4,
 "nbformat_minor": 5
}
