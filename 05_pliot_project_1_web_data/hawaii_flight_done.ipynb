{
 "cells": [
  {
   "cell_type": "code",
   "execution_count": 2,
   "id": "7681621f",
   "metadata": {},
   "outputs": [],
   "source": [
    "from selenium import webdriver\n",
    "from bs4 import BeautifulSoup\n",
    "import time "
   ]
  },
  {
   "cell_type": "code",
   "execution_count": 3,
   "id": "3ebd4176",
   "metadata": {},
   "outputs": [],
   "source": [
    "#함수화 - 날짜 입력시 5개의 상위 검색결과 가져오기\n",
    "\n",
    "\n",
    "def hawaii2(startday, endday) :\n",
    "    \n",
    "    url_start = \"https://beta-flight.naver.com/flights/international/ICN-HNL-\" \n",
    "    date1 = \"2021\" +str(startday) \n",
    "    url_middle = \"/HNL-ICN-\"\n",
    "    date2 = \"2021\" + str(endday) \n",
    "    url_last = \"?adult=1&fareType=Y\"\n",
    "    url = url_start+date1+url_middle+date2+url_last\n",
    "\n",
    "    driver = webdriver.Chrome('./chromedriver')\n",
    "    driver.get(url)\n",
    "\n",
    "    time.sleep(20)\n",
    "    #데이터 불러오는 시간\n",
    "    #implicitly_wait 사용?\n",
    "\n",
    "    price_xpath = '//*[@id=\"__next\"]/div/div[1]/div[4]/div/div[3]/div/div/div[2]/div/div/div/b/i'\n",
    "    go_xpath = '//*[@id=\"__next\"]/div/div[1]/div[4]/div/div[3]/div/div/div[1]/div/div[2]/div[1]/i'\n",
    "    back_xpath = '//*[@id=\"__next\"]/div/div[1]/div[4]/div/div[3]/div/div/div[1]/div/div[2]/div[2]/i'\n",
    "\n",
    "    sel_price = driver.find_elements_by_xpath(price_xpath)\n",
    "    go_times = driver.find_elements_by_xpath(go_xpath)\n",
    "    back_times = driver.find_elements_by_xpath(back_xpath)\n",
    "\n",
    "\n",
    "    #print(len(sel_price))\n",
    "    #print(len(GMP_depart_times))\n",
    "    #print(len(HNL_arrive_times))\n",
    "    \n",
    "    day_rank5 = []\n",
    "    for i in range(5) :\n",
    "        key = []\n",
    "        key.append(go_times[i].text[6:])\n",
    "        key.append(back_times[i].text[6:])\n",
    "        key.append(sel_price[i].text)\n",
    "        #print(key)\n",
    "        day_rank5.append(key)\n",
    "    return day_rank5\n"
   ]
  },
  {
   "cell_type": "code",
   "execution_count": null,
   "id": "54a7d186",
   "metadata": {},
   "outputs": [],
   "source": [
    "\n"
   ]
  },
  {
   "cell_type": "code",
   "execution_count": 3,
   "id": "55ec35dc",
   "metadata": {},
   "outputs": [],
   "source": [
    "# 12월 5일 출발 -> 12월 10검색 예시\n",
    "#a = hawaii2(1205,1210)\n",
    "\n",
    "\n",
    "\n",
    "#all_dict = {}\n",
    "\n",
    "#import pandas as pd\n",
    "#dat = pd.DataFrame(all_dict)\n",
    "#dat.to_csv(\"practice1.csv\", index=False)\n",
    "#gasungbee = []\n",
    "#for i in range(5) :\n",
    "#    hour = int(a[i][0][0:2])+int(a[i][1][0:2])\n",
    "#    minute = int(a[i][0][5:7])+int(a[i][1][5:7])\n",
    "#    total_time = hour*60 + minute\n",
    "#    price_str = a[i][2]\n",
    "#    total_price = int(price_str[0:3])*1000 + int(price_str[4:])\n",
    "    \n",
    "#    ratio = total_price / total_times\n",
    "#    gasungbee.append(ratio)\n",
    "\n",
    "    \n",
    "#print(gasungbee)"
   ]
  },
  {
   "cell_type": "code",
   "execution_count": 4,
   "id": "26211175",
   "metadata": {},
   "outputs": [],
   "source": [
    "# 상위 5개의 결과의 가성비(비행시간/비용) 돌려주는 함수\n",
    "def find_gasungbee(date1,date2) :\n",
    "    a = hawaii2(date1,date2)\n",
    "    gasungbee = []\n",
    "    for i in range(5) :\n",
    "        hour = int(a[i][0][0:2])+int(a[i][1][0:2])\n",
    "        minute = int(a[i][0][5:7])+int(a[i][1][5:7])\n",
    "        total_time = hour*60 + minute\n",
    "        price_str = a[i][2]\n",
    "        total_price = int(price_str[0:3])*1000 + int(price_str[4:])\n",
    "    \n",
    "        ratio = total_price / total_time\n",
    "        gasungbee.append(ratio)\n",
    "        \n",
    "    return gasungbee"
   ]
  },
  {
   "cell_type": "code",
   "execution_count": 11,
   "id": "d20569fd",
   "metadata": {},
   "outputs": [],
   "source": [
    "# 파일 생성\n",
    "import pandas as pd\n",
    "\n",
    "#dict_dat = {\"1205출발,1210도착\" : find_gasungbee(1205,1210),\n",
    "#           \"1205출발,1211도착\" : find_gasungbee(1205,1211),\n",
    "#           \"1205출발,1212도착\" : find_gasungbee(1205,1212),}\n",
    "dict_dat = {}\n",
    "dict_dat[\"1205출발,1210도착\"] =find_gasungbee(1205,1210)\n",
    "dict_dat[\"1205출발,1211도착\"] =find_gasungbee(1205,1211)\n",
    "\n",
    "dat = pd.DataFrame(dict_dat)"
   ]
  },
  {
   "cell_type": "code",
   "execution_count": 12,
   "id": "a50ca636",
   "metadata": {},
   "outputs": [
    {
     "data": {
      "text/html": [
       "<div>\n",
       "<style scoped>\n",
       "    .dataframe tbody tr th:only-of-type {\n",
       "        vertical-align: middle;\n",
       "    }\n",
       "\n",
       "    .dataframe tbody tr th {\n",
       "        vertical-align: top;\n",
       "    }\n",
       "\n",
       "    .dataframe thead th {\n",
       "        text-align: right;\n",
       "    }\n",
       "</style>\n",
       "<table border=\"1\" class=\"dataframe\">\n",
       "  <thead>\n",
       "    <tr style=\"text-align: right;\">\n",
       "      <th></th>\n",
       "      <th>1205출발,1210도착</th>\n",
       "      <th>1205출발,1211도착</th>\n",
       "    </tr>\n",
       "  </thead>\n",
       "  <tbody>\n",
       "    <tr>\n",
       "      <th>0</th>\n",
       "      <td>462.216216</td>\n",
       "      <td>462.216216</td>\n",
       "    </tr>\n",
       "    <tr>\n",
       "      <th>1</th>\n",
       "      <td>490.277778</td>\n",
       "      <td>490.277778</td>\n",
       "    </tr>\n",
       "    <tr>\n",
       "      <th>2</th>\n",
       "      <td>410.185185</td>\n",
       "      <td>410.185185</td>\n",
       "    </tr>\n",
       "    <tr>\n",
       "      <th>3</th>\n",
       "      <td>325.792350</td>\n",
       "      <td>403.747178</td>\n",
       "    </tr>\n",
       "    <tr>\n",
       "      <th>4</th>\n",
       "      <td>375.334448</td>\n",
       "      <td>252.371597</td>\n",
       "    </tr>\n",
       "  </tbody>\n",
       "</table>\n",
       "</div>"
      ],
      "text/plain": [
       "   1205출발,1210도착  1205출발,1211도착\n",
       "0     462.216216     462.216216\n",
       "1     490.277778     490.277778\n",
       "2     410.185185     410.185185\n",
       "3     325.792350     403.747178\n",
       "4     375.334448     252.371597"
      ]
     },
     "execution_count": 12,
     "metadata": {},
     "output_type": "execute_result"
    }
   ],
   "source": [
    "dat"
   ]
  },
  {
   "cell_type": "code",
   "execution_count": 13,
   "id": "aafee475",
   "metadata": {},
   "outputs": [],
   "source": [
    "dat.to_csv(\"flight01.csv\", index=False)"
   ]
  },
  {
   "cell_type": "code",
   "execution_count": 15,
   "id": "db820612",
   "metadata": {},
   "outputs": [],
   "source": [
    "dat.to_excel(\"flight01.xlsx\", index = False)"
   ]
  },
  {
   "cell_type": "code",
   "execution_count": null,
   "id": "88f97060",
   "metadata": {},
   "outputs": [],
   "source": []
  }
 ],
 "metadata": {
  "kernelspec": {
   "display_name": "Python 3",
   "language": "python",
   "name": "python3"
  },
  "language_info": {
   "codemirror_mode": {
    "name": "ipython",
    "version": 3
   },
   "file_extension": ".py",
   "mimetype": "text/x-python",
   "name": "python",
   "nbconvert_exporter": "python",
   "pygments_lexer": "ipython3",
   "version": "3.8.8"
  }
 },
 "nbformat": 4,
 "nbformat_minor": 5
}
