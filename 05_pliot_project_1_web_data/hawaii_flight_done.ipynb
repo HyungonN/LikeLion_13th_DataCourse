{
 "cells": [
  {
   "cell_type": "code",
   "execution_count": 14,
   "id": "7681621f",
   "metadata": {},
   "outputs": [],
   "source": [
    "from selenium import webdriver\n",
    "from bs4 import BeautifulSoup\n",
    "import time \n",
    "\n",
    "# 크롬 창을 띄우지 않고 실행하는 옵션\n",
    "#chrome_option = webdriver.ChromeOptions()\n",
    "#chrome_option.add_argument('headless')\n",
    "#chrome_option.add_argument(\"disable-gpu\")"
   ]
  },
  {
   "cell_type": "code",
   "execution_count": 15,
   "id": "3ebd4176",
   "metadata": {},
   "outputs": [],
   "source": [
    "#함수화 - 날짜 입력시 5개의 상위 검색결과 가져오기\n",
    "\n",
    "def hawaii2(startday, endday) :\n",
    "    \n",
    "    url_start = \"https://beta-flight.naver.com/flights/international/ICN-HNL-\" \n",
    "    date1 = \"2021\" +str(startday) \n",
    "    url_middle = \"/HNL-ICN-\"\n",
    "    date2 = \"2021\" + str(endday) \n",
    "    url_last = \"?adult=1&fareType=Y\"\n",
    "    url = url_start+date1+url_middle+date2+url_last\n",
    "\n",
    "    driver = webdriver.Chrome('./chromedriver')\n",
    "    driver.get(url)\n",
    "\n",
    "    time.sleep(20)\n",
    "    #데이터 불러오는 시간\n",
    "    #implicitly_wait 사용?\n",
    "\n",
    "    price_xpath = '//*[@id=\"__next\"]/div/div[1]/div[4]/div/div[3]/div/div/div[2]/div/div/div/b/i'\n",
    "    go_xpath = '//*[@id=\"__next\"]/div/div[1]/div[4]/div/div[3]/div/div/div[1]/div/div[2]/div[1]/i'\n",
    "    back_xpath = '//*[@id=\"__next\"]/div/div[1]/div[4]/div/div[3]/div/div/div[1]/div/div[2]/div[2]/i'\n",
    "\n",
    "    sel_price = driver.find_elements_by_xpath(price_xpath)\n",
    "    go_times = driver.find_elements_by_xpath(go_xpath)\n",
    "    back_times = driver.find_elements_by_xpath(back_xpath)\n",
    "\n",
    "    day_rank5 = []\n",
    "    for i in range(5) :\n",
    "        key = []\n",
    "        key.append(go_times[i].text[6:])\n",
    "        key.append(back_times[i].text[6:])\n",
    "        key.append(sel_price[i].text)\n",
    "        #print(key)\n",
    "        day_rank5.append(key)\n",
    "    return day_rank5\n"
   ]
  },
  {
   "cell_type": "code",
   "execution_count": 16,
   "id": "55ec35dc",
   "metadata": {},
   "outputs": [],
   "source": [
    "# 12월 5일 출발 예시\n",
    "\n",
    "# 상위 5개의 결과의 비행시간 돌려주는 함수\n",
    "def find_time(date1,date2) :\n",
    "    a = hawaii2(date1,date2)\n",
    "    timeset = []\n",
    "    for i in range(5) :\n",
    "        hour = int(a[i][0][0:2])+int(a[i][1][0:2])\n",
    "        minute = int(a[i][0][5:7])+int(a[i][1][5:7])\n",
    "        total_time = hour*60 + minute\n",
    "        \n",
    "        timeset.append(total_time)\n",
    "        \n",
    "    return timeset"
   ]
  },
  {
   "cell_type": "code",
   "execution_count": 17,
   "id": "e1dd6f13",
   "metadata": {},
   "outputs": [],
   "source": [
    "# 상위 5개의 결과의 비용 돌려주는 함수\n",
    "def find_price(date1,date2) :\n",
    "    a = hawaii2(date1,date2)\n",
    "    priceset = []\n",
    "    for i in range(5) :\n",
    "        price_str = a[i][2]\n",
    "        total_price = int(price_str[0:3])*1000 + int(price_str[4:])\n",
    "    \n",
    "        priceset.append(total_price)\n",
    "        \n",
    "    return priceset"
   ]
  },
  {
   "cell_type": "code",
   "execution_count": 18,
   "id": "26211175",
   "metadata": {},
   "outputs": [],
   "source": [
    "# 상위 5개의 결과의 튜플(비용, 비행시간) 돌려주는 함수\n",
    "def find_gasungbee(date1,date2) :\n",
    "    a = hawaii2(date1,date2)\n",
    "    gasungbee = []\n",
    "    for i in range(5) :\n",
    "        hour = int(a[i][0][0:2])+int(a[i][1][0:2])\n",
    "        minute = int(a[i][0][5:7])+int(a[i][1][5:7])\n",
    "        total_time = hour*60 + minute\n",
    "        price_str = a[i][2]\n",
    "        total_price = int(price_str[0:3])*1000 + int(price_str[4:])\n",
    "    \n",
    "        ratio = (total_price , total_time)\n",
    "        gasungbee.append(ratio)\n",
    "        \n",
    "    return gasungbee"
   ]
  },
  {
   "cell_type": "code",
   "execution_count": 19,
   "id": "d20569fd",
   "metadata": {},
   "outputs": [
    {
     "ename": "ValueError",
     "evalue": "invalid literal for int() with base 10: '1,0'",
     "output_type": "error",
     "traceback": [
      "\u001b[1;31m---------------------------------------------------------------------------\u001b[0m",
      "\u001b[1;31mValueError\u001b[0m                                Traceback (most recent call last)",
      "\u001b[1;32m<ipython-input-19-f618ae0a3892>\u001b[0m in \u001b[0;36m<module>\u001b[1;34m\u001b[0m\n\u001b[0;32m      9\u001b[0m     \u001b[0mdate\u001b[0m \u001b[1;33m=\u001b[0m \u001b[1;36m1200\u001b[0m\u001b[1;33m+\u001b[0m\u001b[0mi\u001b[0m\u001b[1;33m\u001b[0m\u001b[1;33m\u001b[0m\u001b[0m\n\u001b[0;32m     10\u001b[0m     \u001b[0mkey\u001b[0m \u001b[1;33m=\u001b[0m \u001b[0mstr\u001b[0m\u001b[1;33m(\u001b[0m\u001b[0mdate\u001b[0m\u001b[1;33m)\u001b[0m\u001b[1;33m+\u001b[0m\u001b[1;34m\"도착\"\u001b[0m\u001b[1;33m\u001b[0m\u001b[1;33m\u001b[0m\u001b[0m\n\u001b[1;32m---> 11\u001b[1;33m     \u001b[0mdict_dat\u001b[0m\u001b[1;33m[\u001b[0m\u001b[0mkey\u001b[0m\u001b[1;33m]\u001b[0m \u001b[1;33m=\u001b[0m \u001b[0mfind_gasungbee\u001b[0m\u001b[1;33m(\u001b[0m\u001b[1;36m1205\u001b[0m\u001b[1;33m,\u001b[0m\u001b[0mdate\u001b[0m\u001b[1;33m)\u001b[0m\u001b[1;33m\u001b[0m\u001b[1;33m\u001b[0m\u001b[0m\n\u001b[0m\u001b[0;32m     12\u001b[0m \u001b[1;33m\u001b[0m\u001b[0m\n\u001b[0;32m     13\u001b[0m \u001b[0mdat\u001b[0m \u001b[1;33m=\u001b[0m \u001b[0mpd\u001b[0m\u001b[1;33m.\u001b[0m\u001b[0mDataFrame\u001b[0m\u001b[1;33m(\u001b[0m\u001b[0mdict_dat\u001b[0m\u001b[1;33m)\u001b[0m\u001b[1;33m\u001b[0m\u001b[1;33m\u001b[0m\u001b[0m\n",
      "\u001b[1;32m<ipython-input-18-7813c2c358b0>\u001b[0m in \u001b[0;36mfind_gasungbee\u001b[1;34m(date1, date2)\u001b[0m\n\u001b[0;32m      8\u001b[0m         \u001b[0mtotal_time\u001b[0m \u001b[1;33m=\u001b[0m \u001b[0mhour\u001b[0m\u001b[1;33m*\u001b[0m\u001b[1;36m60\u001b[0m \u001b[1;33m+\u001b[0m \u001b[0mminute\u001b[0m\u001b[1;33m\u001b[0m\u001b[1;33m\u001b[0m\u001b[0m\n\u001b[0;32m      9\u001b[0m         \u001b[0mprice_str\u001b[0m \u001b[1;33m=\u001b[0m \u001b[0ma\u001b[0m\u001b[1;33m[\u001b[0m\u001b[0mi\u001b[0m\u001b[1;33m]\u001b[0m\u001b[1;33m[\u001b[0m\u001b[1;36m2\u001b[0m\u001b[1;33m]\u001b[0m\u001b[1;33m\u001b[0m\u001b[1;33m\u001b[0m\u001b[0m\n\u001b[1;32m---> 10\u001b[1;33m         \u001b[0mtotal_price\u001b[0m \u001b[1;33m=\u001b[0m \u001b[0mint\u001b[0m\u001b[1;33m(\u001b[0m\u001b[0mprice_str\u001b[0m\u001b[1;33m[\u001b[0m\u001b[1;36m0\u001b[0m\u001b[1;33m:\u001b[0m\u001b[1;36m3\u001b[0m\u001b[1;33m]\u001b[0m\u001b[1;33m)\u001b[0m\u001b[1;33m*\u001b[0m\u001b[1;36m1000\u001b[0m \u001b[1;33m+\u001b[0m \u001b[0mint\u001b[0m\u001b[1;33m(\u001b[0m\u001b[0mprice_str\u001b[0m\u001b[1;33m[\u001b[0m\u001b[1;36m4\u001b[0m\u001b[1;33m:\u001b[0m\u001b[1;33m]\u001b[0m\u001b[1;33m)\u001b[0m\u001b[1;33m\u001b[0m\u001b[1;33m\u001b[0m\u001b[0m\n\u001b[0m\u001b[0;32m     11\u001b[0m \u001b[1;33m\u001b[0m\u001b[0m\n\u001b[0;32m     12\u001b[0m         \u001b[0mratio\u001b[0m \u001b[1;33m=\u001b[0m \u001b[1;33m(\u001b[0m\u001b[0mtotal_price\u001b[0m \u001b[1;33m,\u001b[0m \u001b[0mtotal_time\u001b[0m\u001b[1;33m)\u001b[0m\u001b[1;33m\u001b[0m\u001b[1;33m\u001b[0m\u001b[0m\n",
      "\u001b[1;31mValueError\u001b[0m: invalid literal for int() with base 10: '1,0'"
     ]
    }
   ],
   "source": [
    "# 파일 생성\n",
    "import pandas as pd\n",
    "\n",
    "#dict_dat = {\"1205출발,1210도착\" : find_gasungbee(1205,1210),\n",
    "#           \"1205출발,1211도착\" : find_gasungbee(1205,1211),\n",
    "#           \"1205출발,1212도착\" : find_gasungbee(1205,1212),...}\n",
    "dict_dat = {}\n",
    "for i in range(10,14,1) :\n",
    "    date = 1200+i\n",
    "    key = str(date)+\"도착\"\n",
    "    dict_dat[key] = find_gasungbee(1205,date)\n",
    "    \n",
    "dat = pd.DataFrame(dict_dat)"
   ]
  },
  {
   "cell_type": "code",
   "execution_count": 12,
   "id": "a50ca636",
   "metadata": {},
   "outputs": [
    {
     "data": {
      "text/html": [
       "<div>\n",
       "<style scoped>\n",
       "    .dataframe tbody tr th:only-of-type {\n",
       "        vertical-align: middle;\n",
       "    }\n",
       "\n",
       "    .dataframe tbody tr th {\n",
       "        vertical-align: top;\n",
       "    }\n",
       "\n",
       "    .dataframe thead th {\n",
       "        text-align: right;\n",
       "    }\n",
       "</style>\n",
       "<table border=\"1\" class=\"dataframe\">\n",
       "  <thead>\n",
       "    <tr style=\"text-align: right;\">\n",
       "      <th></th>\n",
       "      <th>1210도착</th>\n",
       "      <th>1211도착</th>\n",
       "      <th>1212도착</th>\n",
       "      <th>1213도착</th>\n",
       "    </tr>\n",
       "  </thead>\n",
       "  <tbody>\n",
       "    <tr>\n",
       "      <th>0</th>\n",
       "      <td>(852500, 1850)</td>\n",
       "      <td>(852500, 1850)</td>\n",
       "      <td>(852500, 1850)</td>\n",
       "      <td>(852500, 1850)</td>\n",
       "    </tr>\n",
       "    <tr>\n",
       "      <th>1</th>\n",
       "      <td>(880500, 1800)</td>\n",
       "      <td>(880500, 1800)</td>\n",
       "      <td>(880500, 1800)</td>\n",
       "      <td>(885500, 2160)</td>\n",
       "    </tr>\n",
       "    <tr>\n",
       "      <th>2</th>\n",
       "      <td>(885500, 2160)</td>\n",
       "      <td>(885500, 2160)</td>\n",
       "      <td>(885500, 2160)</td>\n",
       "      <td>(890200, 2795)</td>\n",
       "    </tr>\n",
       "    <tr>\n",
       "      <th>3</th>\n",
       "      <td>(890200, 2745)</td>\n",
       "      <td>(890200, 2215)</td>\n",
       "      <td>(890200, 2745)</td>\n",
       "      <td>(968400, 2667)</td>\n",
       "    </tr>\n",
       "    <tr>\n",
       "      <th>4</th>\n",
       "      <td>(901100, 2478)</td>\n",
       "      <td>(902500, 3563)</td>\n",
       "      <td>(901100, 2392)</td>\n",
       "      <td>(977000, 3072)</td>\n",
       "    </tr>\n",
       "  </tbody>\n",
       "</table>\n",
       "</div>"
      ],
      "text/plain": [
       "           1210도착          1211도착          1212도착          1213도착\n",
       "0  (852500, 1850)  (852500, 1850)  (852500, 1850)  (852500, 1850)\n",
       "1  (880500, 1800)  (880500, 1800)  (880500, 1800)  (885500, 2160)\n",
       "2  (885500, 2160)  (885500, 2160)  (885500, 2160)  (890200, 2795)\n",
       "3  (890200, 2745)  (890200, 2215)  (890200, 2745)  (968400, 2667)\n",
       "4  (901100, 2478)  (902500, 3563)  (901100, 2392)  (977000, 3072)"
      ]
     },
     "execution_count": 12,
     "metadata": {},
     "output_type": "execute_result"
    }
   ],
   "source": [
    "dat"
   ]
  },
  {
   "cell_type": "code",
   "execution_count": 10,
   "id": "aafee475",
   "metadata": {},
   "outputs": [],
   "source": [
    "dat.to_csv(\"flight01.csv\", index=False)"
   ]
  },
  {
   "cell_type": "code",
   "execution_count": 11,
   "id": "db820612",
   "metadata": {},
   "outputs": [],
   "source": [
    "dat.to_excel(\"flight01.xlsx\", index = False)"
   ]
  },
  {
   "cell_type": "code",
   "execution_count": null,
   "id": "88f97060",
   "metadata": {},
   "outputs": [],
   "source": []
  }
 ],
 "metadata": {
  "kernelspec": {
   "display_name": "Python 3",
   "language": "python",
   "name": "python3"
  },
  "language_info": {
   "codemirror_mode": {
    "name": "ipython",
    "version": 3
   },
   "file_extension": ".py",
   "mimetype": "text/x-python",
   "name": "python",
   "nbconvert_exporter": "python",
   "pygments_lexer": "ipython3",
   "version": "3.8.8"
  }
 },
 "nbformat": 4,
 "nbformat_minor": 5
}
