{
 "cells": [
  {
   "cell_type": "markdown",
   "id": "5184dd24",
   "metadata": {
    "id": "5184dd24"
   },
   "source": [
    "### 네이버 자동차 하나의 브랜드 정보가져오기"
   ]
  },
  {
   "cell_type": "markdown",
   "id": "49b0d7d2",
   "metadata": {
    "id": "49b0d7d2"
   },
   "source": [
    "* url : https://auto.naver.com/\n",
    "* 현대, 기아 브랜드 정보 가져오기"
   ]
  },
  {
   "cell_type": "code",
   "execution_count": 4,
   "id": "6b65db80",
   "metadata": {
    "id": "6b65db80"
   },
   "outputs": [],
   "source": [
    "from selenium import webdriver\n",
    "from bs4 import BeautifulSoup"
   ]
  },
  {
   "cell_type": "code",
   "execution_count": 8,
   "id": "0776fc9c",
   "metadata": {
    "id": "0776fc9c"
   },
   "outputs": [],
   "source": [
    "driver = webdriver.Chrome('./chromedriver')\n",
    "\n",
    "## https://www.amazon.com/\n",
    "url = 'https://auto.naver.com/'\n",
    "driver.get(url)"
   ]
  },
  {
   "cell_type": "markdown",
   "id": "f1440bfd",
   "metadata": {
    "id": "f1440bfd"
   },
   "source": [
    "### 현대 브랜드 클릭"
   ]
  },
  {
   "cell_type": "markdown",
   "id": "8b488be0",
   "metadata": {
    "id": "8b488be0"
   },
   "source": [
    "```\n",
    "//*[@id=\"_vendor_select_tab\"]/div[2]/div[1]/div/ul/li[1]/a/img\n",
    "```"
   ]
  },
  {
   "cell_type": "code",
   "execution_count": 9,
   "id": "9e24e9bc",
   "metadata": {
    "id": "9e24e9bc"
   },
   "outputs": [],
   "source": [
    "sel_xpath = '//*[@id=\"_vendor_select_tab\"]/div[2]/div[1]/div/ul/li[1]/a/img'\n",
    "sel_hyundae = driver.find_element_by_xpath(sel_xpath)"
   ]
  },
  {
   "cell_type": "code",
   "execution_count": 10,
   "id": "dfa84492",
   "metadata": {
    "id": "dfa84492"
   },
   "outputs": [],
   "source": [
    "sel_hyundae.click()"
   ]
  },
  {
   "cell_type": "code",
   "execution_count": 11,
   "id": "67815447",
   "metadata": {
    "id": "67815447",
    "outputId": "00de0e0d-5fdf-4307-ba82-1a8fed17c62c"
   },
   "outputs": [
    {
     "data": {
      "text/plain": [
       "'https://auto.naver.com/company/main.nhn?mnfcoNo=16&importYn=N'"
      ]
     },
     "execution_count": 11,
     "metadata": {},
     "output_type": "execute_result"
    }
   ],
   "source": [
    "driver.current_url"
   ]
  },
  {
   "cell_type": "code",
   "execution_count": 12,
   "id": "0733ac98",
   "metadata": {
    "id": "0733ac98"
   },
   "outputs": [],
   "source": [
    "driver.get(driver.current_url)"
   ]
  },
  {
   "cell_type": "markdown",
   "id": "b986192c",
   "metadata": {
    "id": "b986192c"
   },
   "source": [
    "```\n",
    "제목 : //*[@id=\"modelListArea\"]/ul/li[1]/div/div/a[2]/span/strong\n",
    "       //*[@id=\"modelListArea\"]/ul/li[2]/div/div/a[2]/span/strong\n",
    "연비 : //*[@id=\"modelListArea\"]/ul/li[1]/div/ul/li[2]/span[2]/span/span\n",
    "       //*[@id=\"modelListArea\"]/ul/li[2]/div/ul/li[2]/span[2]/span/span\n",
    "연로 : //*[@id=\"modelListArea\"]/ul/li[1]/div/ul/li[2]/span[4]/span\n",
    "       //*[@id=\"modelListArea\"]/ul/li[2]/div/ul/li[2]/span[4]/span\n",
    "```"
   ]
  },
  {
   "cell_type": "markdown",
   "id": "0268dd2e",
   "metadata": {
    "id": "0268dd2e"
   },
   "source": [
    "### 하나 가져오기"
   ]
  },
  {
   "cell_type": "code",
   "execution_count": 13,
   "id": "6277374f",
   "metadata": {
    "id": "6277374f"
   },
   "outputs": [],
   "source": [
    "xpath_tit = '//*[@id=\"modelListArea\"]/ul/li[1]/div/div/a[2]/span/strong'\n",
    "xpath_gas = '//*[@id=\"modelListArea\"]/ul/li[1]/div/ul/li[2]/span[2]/span/span/span'\n",
    "xpath_gas2 = '//*[@id=\"modelListArea\"]/ul/li[1]/div/ul/li[2]/span[4]/span'\n",
    "\n",
    "\n",
    "sel_tit = driver.find_element_by_xpath(xpath_tit)\n",
    "sel_gas = driver.find_element_by_xpath(xpath_gas)\n",
    "sel_gas2 = driver.find_element_by_xpath(xpath_gas2)"
   ]
  },
  {
   "cell_type": "code",
   "execution_count": null,
   "id": "4525d484",
   "metadata": {
    "id": "4525d484",
    "outputId": "4bbe3838-d983-477f-e6c3-3d8e0dc4f3ba"
   },
   "outputs": [
    {
     "name": "stdout",
     "output_type": "stream",
     "text": [
      "2022 캐스퍼\n",
      "정보없음\n",
      "가솔린\n"
     ]
    }
   ],
   "source": [
    "print(sel_tit.text)\n",
    "print(sel_gas.text)\n",
    "print(sel_gas2.text)"
   ]
  },
  {
   "cell_type": "markdown",
   "id": "e13ae5b7",
   "metadata": {
    "id": "e13ae5b7"
   },
   "source": [
    "### 여러개 가져오기"
   ]
  },
  {
   "cell_type": "code",
   "execution_count": null,
   "id": "7ef0a7e5",
   "metadata": {
    "id": "7ef0a7e5",
    "outputId": "aca07644-4833-4079-e854-0a659515558e"
   },
   "outputs": [
    {
     "data": {
      "text/plain": [
       "15"
      ]
     },
     "execution_count": 15,
     "metadata": {},
     "output_type": "execute_result"
    }
   ],
   "source": [
    "xpath_tit = '//*[@id=\"modelListArea\"]/ul/li/div/div/a[2]/span/strong'\n",
    "sel_tits =  driver.find_elements_by_xpath(xpath_tit)\n",
    "len(sel_tits)"
   ]
  },
  {
   "cell_type": "code",
   "execution_count": null,
   "id": "0816e87b",
   "metadata": {
    "id": "0816e87b",
    "outputId": "14b5d401-9b22-40c0-f50d-86c77fc24d64"
   },
   "outputs": [
    {
     "data": {
      "text/plain": [
       "(15, 15, 15)"
      ]
     },
     "execution_count": 17,
     "metadata": {},
     "output_type": "execute_result"
    }
   ],
   "source": [
    "xpath_tit = '//*[@id=\"modelListArea\"]/ul/li/div/div/a[2]/span/strong'\n",
    "xpath_gas = '//*[@id=\"modelListArea\"]/ul/li/div/ul/li[2]/span[2]/span/span'\n",
    "xpath_gas2 = '//*[@id=\"modelListArea\"]/ul/li/div/ul/li[2]/span[4]/span'\n",
    "\n",
    "sel_tit = driver.find_elements_by_xpath(xpath_tit)\n",
    "sel_gas = driver.find_elements_by_xpath(xpath_gas)\n",
    "sel_gas2 = driver.find_elements_by_xpath(xpath_gas2)\n",
    "\n",
    "len(sel_tit), len(sel_gas), len(sel_gas2)"
   ]
  },
  {
   "cell_type": "code",
   "execution_count": null,
   "id": "f83733ee",
   "metadata": {
    "id": "f83733ee",
    "outputId": "93fba14f-effa-4473-e3b5-836d2ce3ce65"
   },
   "outputs": [
    {
     "name": "stdout",
     "output_type": "stream",
     "text": [
      "2022 캐스퍼\n",
      "2022 베뉴\n",
      "2020 아반떼\n",
      "2021 아이오닉 5\n",
      "2021 그랜저\n",
      "2020 팰리세이드\n",
      "2021 투싼\n",
      "2020 싼타페\n",
      "2021 싼타페 하이브리드\n",
      "2021 아반떼 N\n",
      "2021 스타리아\n",
      "2021 쏘나타\n",
      "2021 코나\n",
      "2021 넥쏘\n",
      "2021 그랜저 하이브리드\n",
      "정보없음\n",
      "13.3~13.7km/ℓ\n",
      "10.5~15.4km/ℓ\n",
      "4.5~5.1km/kWh\n",
      "7.4~11.9km/ℓ\n",
      "8.9~12.1km/ℓ\n",
      "11.0~14.8km/ℓ\n",
      "9.5~14.2km/ℓ\n",
      "13.1~15.3km/ℓ\n",
      "10.4~10.7km/ℓ\n",
      "6.5~12.3km/ℓ\n",
      "9.9~13.8km/ℓ\n",
      "11.6~13.9km/ℓ\n",
      "93.7~96.2km/kg\n",
      "15.2~16.2km/ℓ\n",
      "가솔린\n",
      "가솔린\n",
      "가솔린, LPG\n",
      "전기\n",
      "가솔린, LPG\n",
      "디젤, 가솔린\n",
      "디젤, 가솔린\n",
      "디젤, 가솔린\n",
      "하이브리드, 가솔린, 전기\n",
      "가솔린\n",
      "디젤, LPG\n",
      "가솔린, LPG\n",
      "가솔린\n",
      "수소\n",
      "하이브리드, 가솔린, 전기\n"
     ]
    }
   ],
   "source": [
    "dat_len = len(sel_tit)\n",
    "for one in sel_tit:\n",
    "    print(one.text)  \n",
    "for one in sel_gas:\n",
    "    print(one.text) \n",
    "for one in sel_gas2:\n",
    "    print(one.text) "
   ]
  },
  {
   "cell_type": "code",
   "execution_count": null,
   "id": "2bfb3ec3",
   "metadata": {
    "id": "2bfb3ec3",
    "outputId": "98061362-8e4a-4bd1-b1bb-f38860e4154c"
   },
   "outputs": [
    {
     "name": "stdout",
     "output_type": "stream",
     "text": [
      "2022 캐스퍼,  정보없음,  가솔린\n",
      "2022 베뉴,  13.3~13.7km/ℓ,  가솔린\n",
      "2020 아반떼,  10.5~15.4km/ℓ,  가솔린, LPG\n",
      "2021 아이오닉 5,  4.5~5.1km/kWh,  전기\n",
      "2021 그랜저,  7.4~11.9km/ℓ,  가솔린, LPG\n",
      "2020 팰리세이드,  8.9~12.1km/ℓ,  디젤, 가솔린\n",
      "2021 투싼,  11.0~14.8km/ℓ,  디젤, 가솔린\n",
      "2020 싼타페,  9.5~14.2km/ℓ,  디젤, 가솔린\n",
      "2021 싼타페 하이브리드,  13.1~15.3km/ℓ,  하이브리드, 가솔린, 전기\n",
      "2021 아반떼 N,  10.4~10.7km/ℓ,  가솔린\n",
      "2021 스타리아,  6.5~12.3km/ℓ,  디젤, LPG\n",
      "2021 쏘나타,  9.9~13.8km/ℓ,  가솔린, LPG\n",
      "2021 코나,  11.6~13.9km/ℓ,  가솔린\n",
      "2021 넥쏘,  93.7~96.2km/kg,  수소\n",
      "2021 그랜저 하이브리드,  15.2~16.2km/ℓ,  하이브리드, 가솔린, 전기\n"
     ]
    }
   ],
   "source": [
    "dat_len = len(sel_tit)\n",
    "for one in range(dat_len):\n",
    "    print(  sel_tit[one].text, sel_gas[one].text, sel_gas2[one].text, sep=\",  \" )"
   ]
  },
  {
   "cell_type": "markdown",
   "id": "9217281e",
   "metadata": {
    "id": "9217281e"
   },
   "source": [
    "### 데이터를 파일로 만들기"
   ]
  },
  {
   "cell_type": "code",
   "execution_count": null,
   "id": "230758da",
   "metadata": {
    "id": "230758da",
    "outputId": "6dfa8b52-da78-4a18-f3a2-cdcb7a454f29"
   },
   "outputs": [
    {
     "name": "stdout",
     "output_type": "stream",
     "text": [
      "2022 캐스퍼,  정보없음,  가솔린\n",
      "2022 베뉴,  13.3~13.7km/ℓ,  가솔린\n",
      "2020 아반떼,  10.5~15.4km/ℓ,  가솔린, LPG\n",
      "2021 아이오닉 5,  4.5~5.1km/kWh,  전기\n",
      "2021 그랜저,  7.4~11.9km/ℓ,  가솔린, LPG\n",
      "2020 팰리세이드,  8.9~12.1km/ℓ,  디젤, 가솔린\n",
      "2021 투싼,  11.0~14.8km/ℓ,  디젤, 가솔린\n",
      "2020 싼타페,  9.5~14.2km/ℓ,  디젤, 가솔린\n",
      "2021 싼타페 하이브리드,  13.1~15.3km/ℓ,  하이브리드, 가솔린, 전기\n",
      "2021 아반떼 N,  10.4~10.7km/ℓ,  가솔린\n",
      "2021 스타리아,  6.5~12.3km/ℓ,  디젤, LPG\n",
      "2021 쏘나타,  9.9~13.8km/ℓ,  가솔린, LPG\n",
      "2021 코나,  11.6~13.9km/ℓ,  가솔린\n",
      "2021 넥쏘,  93.7~96.2km/kg,  수소\n",
      "2021 그랜저 하이브리드,  15.2~16.2km/ℓ,  하이브리드, 가솔린, 전기\n"
     ]
    },
    {
     "data": {
      "text/plain": [
       "(15, 15, 15)"
      ]
     },
     "execution_count": 35,
     "metadata": {},
     "output_type": "execute_result"
    }
   ],
   "source": [
    "dat_sel_tit = []\n",
    "dat_sel_gas = [] \n",
    "dat_sel_gas2 = []\n",
    "\n",
    "for one in range(dat_len):\n",
    "    print(  sel_tit[one].text, sel_gas[one].text, sel_gas2[one].text, sep=\",  \" )\n",
    "    dat_sel_tit.append( sel_tit[one].text )\n",
    "    dat_sel_gas.append( sel_gas[one].text )\n",
    "    dat_sel_gas2.append( sel_gas2[one].text )\n",
    "    \n",
    "len(dat_sel_tit), len(dat_sel_gas), len(dat_sel_gas2)"
   ]
  },
  {
   "cell_type": "code",
   "execution_count": null,
   "id": "0b323a60",
   "metadata": {
    "id": "0b323a60"
   },
   "outputs": [],
   "source": [
    "import pandas as pd"
   ]
  },
  {
   "cell_type": "code",
   "execution_count": null,
   "id": "2e4c53e0",
   "metadata": {
    "id": "2e4c53e0"
   },
   "outputs": [],
   "source": [
    "dict_dat = {\"차종\":dat_sel_tit, \"연비\":dat_sel_gas, \"연료\":dat_sel_gas2}\n",
    "dat = pd.DataFrame(dict_dat)\n",
    "dat.to_csv(\"네이버자동차_현대.csv\", index=False)\n",
    "dat.to_excel(\"네이버자동차_현대.xlsx\", index=False)"
   ]
  },
  {
   "cell_type": "markdown",
   "id": "e805666f",
   "metadata": {
    "id": "e805666f"
   },
   "source": [
    "### 기아 브랜드 클릭"
   ]
  },
  {
   "cell_type": "markdown",
   "id": "6d8a86a3",
   "metadata": {
    "id": "6d8a86a3"
   },
   "source": [
    "```\n",
    "//*[@id=\"_vendor_select_tab\"]/div[2]/div[1]/div/ul/li[2]/a/img\n",
    "```"
   ]
  },
  {
   "cell_type": "code",
   "execution_count": null,
   "id": "02b5339f",
   "metadata": {
    "id": "02b5339f"
   },
   "outputs": [],
   "source": [
    "sel_xpath = '//*[@id=\"_vendor_select_tab\"]/div[2]/div[1]/div/ul/li[2]/a/img'\n",
    "sel_kia = driver.find_element_by_xpath(sel_xpath)"
   ]
  }
 ],
 "metadata": {
  "colab": {
   "name": "naver_car_web.ipynb",
   "provenance": []
  },
  "kernelspec": {
   "display_name": "Python 3",
   "language": "python",
   "name": "python3"
  },
  "language_info": {
   "codemirror_mode": {
    "name": "ipython",
    "version": 3
   },
   "file_extension": ".py",
   "mimetype": "text/x-python",
   "name": "python",
   "nbconvert_exporter": "python",
   "pygments_lexer": "ipython3",
   "version": "3.8.8"
  }
 },
 "nbformat": 4,
 "nbformat_minor": 5
}
