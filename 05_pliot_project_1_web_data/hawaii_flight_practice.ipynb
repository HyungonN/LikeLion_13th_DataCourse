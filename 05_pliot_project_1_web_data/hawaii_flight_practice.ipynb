{
 "cells": [
  {
   "cell_type": "code",
   "execution_count": 11,
   "id": "aceeeef5",
   "metadata": {},
   "outputs": [
    {
     "name": "stdout",
     "output_type": "stream",
     "text": [
      "01. 제목 가져오기(title)\n",
      "02. 텍스트 가져오기(p)\n",
      "03. 링크 가져오기(a)\n",
      "04. 이미지 정보 가져오기(img)\n",
      "05. 리스트 정보 가져오기(ul,ol)\n",
      "06. id를 활용한 정보 획득\n",
      "07. class를 활용한 정보 획득\n",
      "08. 하나의 이미지 다운로드\n",
      "09. 여러개의 이미지 다운로드\n"
     ]
    }
   ],
   "source": [
    "from selenium import webdriver\n",
    "driver = webdriver.Chrome('./chromedriver')\n",
    "url = 'https://pythonstart.github.io/web/'\n",
    "driver.get(url)\n",
    "\n",
    "base_xpath = '/html/body/ul/a['\n",
    "end_xpath = ']'\n",
    "\n",
    "for i in range(1,10,1) :\n",
    "    one_xpath = base_xpath +str(i) + end_xpath\n",
    "    data = driver.find_element_by_xpath(one_xpath)\n",
    "    print(data.text)\n",
    "    "
   ]
  },
  {
   "cell_type": "code",
   "execution_count": 17,
   "id": "d4c18a58",
   "metadata": {},
   "outputs": [
    {
     "name": "stdout",
     "output_type": "stream",
     "text": [
      "['2021.09.02.(목)', '2021.09.03.(금)', '2021.09.04.(토)', '2021.09.05.(일)', '2021.09.06.(월)', '2021.09.07.(화)', '2021.09.08.(수)', '2021.09.09.(목)', '2021.09.10.(금)', '2021.09.11.(토)', '2021.09.12.(일)', '2021.09.13.(월)']\n"
     ]
    }
   ],
   "source": [
    "#네이버 데이터랩에서 키워드 추출\n",
    "\n",
    "import os\n",
    "os.getcwd()\n",
    "from selenium import webdriver\n",
    "from bs4 import BeautifulSoup\n",
    "driver = webdriver.Chrome('./chromedriver')\n",
    "url = \"https://datalab.naver.com/\"\n",
    "driver.get(url)\n",
    "\n",
    "soup = BeautifulSoup(driver.page_source, 'lxml')\n",
    "soup.title\n",
    "\n",
    "tmp_all = soup.find_all(\"span\", class_=\"title_cell\")\n",
    "date_all = []\n",
    "for one in tmp_all:\n",
    "    tmp = one.text\n",
    "    if len(tmp) >5:\n",
    "        date_all.append(tmp)\n",
    "\n",
    "print(date_all)"
   ]
  },
  {
   "cell_type": "code",
   "execution_count": 3,
   "id": "7e391091",
   "metadata": {},
   "outputs": [],
   "source": [
    "# 파일럿 실습1\n",
    "\n",
    "import os\n",
    "os.getcwd()\n",
    "from selenium import webdriver\n",
    "from bs4 import BeautifulSoup\n",
    "driver = webdriver.Chrome('./chromedriver')\n",
    "url = \"https://beta-flight.naver.com/\"\n",
    "driver.get(url)\n",
    "\n",
    "#호놀룰루 검색\n",
    "box = driver.find_element_by_xpath('//*[@id=\"__next\"]/div/div[1]/div[4]/div/div/div[2]/div[1]/button[2]/b')\n",
    "box.click()\n",
    "search_button = driver.find_element_by_xpath('//*[@id=\"__next\"]/div/div[1]/div[4]/div/div/button/span')\n",
    "destination_input = driver.find_element_by_xpath('//*[@id=\"__next\"]/div/div[1]/div[10]/div[1]/div/input')\n",
    "destination_input.clear()\n",
    "destination_input.send_keys(\"HNL\")\n",
    "recommend = driver.find_element_by_xpath('//*[@id=\"__next\"]/div/div[1]/div[10]/div[2]/section/div/a')\n",
    "recommend.click()\n",
    "search_button.click()\n"
   ]
  },
  {
   "cell_type": "code",
   "execution_count": 94,
   "id": "6dfb0895",
   "metadata": {},
   "outputs": [],
   "source": [
    "from selenium import webdriver\n",
    "from bs4 import BeautifulSoup\n",
    "import time \n",
    "\n",
    "url_start = \"https://beta-flight.naver.com/flights/international/ICN-HNL-\" \n",
    "date1 = \"20211201\" \n",
    "url_middle = \"/HNL-ICN-\"\n",
    "date2 = \"20211203\" \n",
    "url_last = \"?adult=1&fareType=Y\"\n",
    "url = url_start+date1+url_middle+date2+url_last\n",
    "\n",
    "driver = webdriver.Chrome('./chromedriver')\n",
    "driver.get(url)"
   ]
  },
  {
   "cell_type": "code",
   "execution_count": 16,
   "id": "2c9658c0",
   "metadata": {},
   "outputs": [],
   "source": [
    "# //*[@id=\"__next\"]/div/div[1]/div[4]/div/div[3]/div[1]/div/div[2]/div/div/div/b/i\n",
    "# //*[@id=\"__next\"]/div/div[1]/div[4]/div/div[3]/div[2]/div/div[2]/div/div/div/b/i\n",
    "# ...\n",
    "# //*[@id=\"__next\"]/div/div[1]/div[4]/div/div[3]/div[300]/div/div[2]/div/div/div/b/i"
   ]
  },
  {
   "cell_type": "code",
   "execution_count": 93,
   "id": "1819b273",
   "metadata": {},
   "outputs": [
    {
     "ename": "WebDriverException",
     "evalue": "Message: chrome not reachable\n  (Session info: chrome=93.0.4577.63)\n",
     "output_type": "error",
     "traceback": [
      "\u001b[1;31m---------------------------------------------------------------------------\u001b[0m",
      "\u001b[1;31mWebDriverException\u001b[0m                        Traceback (most recent call last)",
      "\u001b[1;32m<ipython-input-93-33733c6fdf77>\u001b[0m in \u001b[0;36m<module>\u001b[1;34m\u001b[0m\n\u001b[0;32m     13\u001b[0m \u001b[1;33m\u001b[0m\u001b[0m\n\u001b[0;32m     14\u001b[0m \u001b[1;33m\u001b[0m\u001b[0m\n\u001b[1;32m---> 15\u001b[1;33m \u001b[0msel_price\u001b[0m \u001b[1;33m=\u001b[0m \u001b[0mdriver\u001b[0m\u001b[1;33m.\u001b[0m\u001b[0mfind_elements_by_xpath\u001b[0m\u001b[1;33m(\u001b[0m\u001b[0mprice_xpath\u001b[0m\u001b[1;33m)\u001b[0m\u001b[1;33m\u001b[0m\u001b[1;33m\u001b[0m\u001b[0m\n\u001b[0m\u001b[0;32m     16\u001b[0m \u001b[0mGMP_depart_times\u001b[0m \u001b[1;33m=\u001b[0m \u001b[0mdriver\u001b[0m\u001b[1;33m.\u001b[0m\u001b[0mfind_elements_by_xpath\u001b[0m\u001b[1;33m(\u001b[0m\u001b[0mGMP_depart_xpath\u001b[0m\u001b[1;33m)\u001b[0m\u001b[1;33m\u001b[0m\u001b[1;33m\u001b[0m\u001b[0m\n\u001b[0;32m     17\u001b[0m \u001b[0mHNL_arrive_times\u001b[0m \u001b[1;33m=\u001b[0m \u001b[0mdriver\u001b[0m\u001b[1;33m.\u001b[0m\u001b[0mfind_elements_by_xpath\u001b[0m\u001b[1;33m(\u001b[0m\u001b[0mHNL_arrive_xpath\u001b[0m\u001b[1;33m)\u001b[0m\u001b[1;33m\u001b[0m\u001b[1;33m\u001b[0m\u001b[0m\n",
      "\u001b[1;32mC:\\anaconda3\\lib\\site-packages\\selenium\\webdriver\\remote\\webdriver.py\u001b[0m in \u001b[0;36mfind_elements_by_xpath\u001b[1;34m(self, xpath)\u001b[0m\n\u001b[0;32m    408\u001b[0m             \u001b[0melements\u001b[0m \u001b[1;33m=\u001b[0m \u001b[0mdriver\u001b[0m\u001b[1;33m.\u001b[0m\u001b[0mfind_elements_by_xpath\u001b[0m\u001b[1;33m(\u001b[0m\u001b[1;34m\"//div[contains(@class, 'foo')]\"\u001b[0m\u001b[1;33m)\u001b[0m\u001b[1;33m\u001b[0m\u001b[1;33m\u001b[0m\u001b[0m\n\u001b[0;32m    409\u001b[0m         \"\"\"\n\u001b[1;32m--> 410\u001b[1;33m         \u001b[1;32mreturn\u001b[0m \u001b[0mself\u001b[0m\u001b[1;33m.\u001b[0m\u001b[0mfind_elements\u001b[0m\u001b[1;33m(\u001b[0m\u001b[0mby\u001b[0m\u001b[1;33m=\u001b[0m\u001b[0mBy\u001b[0m\u001b[1;33m.\u001b[0m\u001b[0mXPATH\u001b[0m\u001b[1;33m,\u001b[0m \u001b[0mvalue\u001b[0m\u001b[1;33m=\u001b[0m\u001b[0mxpath\u001b[0m\u001b[1;33m)\u001b[0m\u001b[1;33m\u001b[0m\u001b[1;33m\u001b[0m\u001b[0m\n\u001b[0m\u001b[0;32m    411\u001b[0m \u001b[1;33m\u001b[0m\u001b[0m\n\u001b[0;32m    412\u001b[0m     \u001b[1;32mdef\u001b[0m \u001b[0mfind_element_by_link_text\u001b[0m\u001b[1;33m(\u001b[0m\u001b[0mself\u001b[0m\u001b[1;33m,\u001b[0m \u001b[0mlink_text\u001b[0m\u001b[1;33m)\u001b[0m\u001b[1;33m:\u001b[0m\u001b[1;33m\u001b[0m\u001b[1;33m\u001b[0m\u001b[0m\n",
      "\u001b[1;32mC:\\anaconda3\\lib\\site-packages\\selenium\\webdriver\\remote\\webdriver.py\u001b[0m in \u001b[0;36mfind_elements\u001b[1;34m(self, by, value)\u001b[0m\n\u001b[0;32m   1003\u001b[0m         \u001b[1;31m# Return empty list if driver returns null\u001b[0m\u001b[1;33m\u001b[0m\u001b[1;33m\u001b[0m\u001b[1;33m\u001b[0m\u001b[0m\n\u001b[0;32m   1004\u001b[0m         \u001b[1;31m# See https://github.com/SeleniumHQ/selenium/issues/4555\u001b[0m\u001b[1;33m\u001b[0m\u001b[1;33m\u001b[0m\u001b[1;33m\u001b[0m\u001b[0m\n\u001b[1;32m-> 1005\u001b[1;33m         return self.execute(Command.FIND_ELEMENTS, {\n\u001b[0m\u001b[0;32m   1006\u001b[0m             \u001b[1;34m'using'\u001b[0m\u001b[1;33m:\u001b[0m \u001b[0mby\u001b[0m\u001b[1;33m,\u001b[0m\u001b[1;33m\u001b[0m\u001b[1;33m\u001b[0m\u001b[0m\n\u001b[0;32m   1007\u001b[0m             'value': value})['value'] or []\n",
      "\u001b[1;32mC:\\anaconda3\\lib\\site-packages\\selenium\\webdriver\\remote\\webdriver.py\u001b[0m in \u001b[0;36mexecute\u001b[1;34m(self, driver_command, params)\u001b[0m\n\u001b[0;32m    319\u001b[0m         \u001b[0mresponse\u001b[0m \u001b[1;33m=\u001b[0m \u001b[0mself\u001b[0m\u001b[1;33m.\u001b[0m\u001b[0mcommand_executor\u001b[0m\u001b[1;33m.\u001b[0m\u001b[0mexecute\u001b[0m\u001b[1;33m(\u001b[0m\u001b[0mdriver_command\u001b[0m\u001b[1;33m,\u001b[0m \u001b[0mparams\u001b[0m\u001b[1;33m)\u001b[0m\u001b[1;33m\u001b[0m\u001b[1;33m\u001b[0m\u001b[0m\n\u001b[0;32m    320\u001b[0m         \u001b[1;32mif\u001b[0m \u001b[0mresponse\u001b[0m\u001b[1;33m:\u001b[0m\u001b[1;33m\u001b[0m\u001b[1;33m\u001b[0m\u001b[0m\n\u001b[1;32m--> 321\u001b[1;33m             \u001b[0mself\u001b[0m\u001b[1;33m.\u001b[0m\u001b[0merror_handler\u001b[0m\u001b[1;33m.\u001b[0m\u001b[0mcheck_response\u001b[0m\u001b[1;33m(\u001b[0m\u001b[0mresponse\u001b[0m\u001b[1;33m)\u001b[0m\u001b[1;33m\u001b[0m\u001b[1;33m\u001b[0m\u001b[0m\n\u001b[0m\u001b[0;32m    322\u001b[0m             response['value'] = self._unwrap_value(\n\u001b[0;32m    323\u001b[0m                 response.get('value', None))\n",
      "\u001b[1;32mC:\\anaconda3\\lib\\site-packages\\selenium\\webdriver\\remote\\errorhandler.py\u001b[0m in \u001b[0;36mcheck_response\u001b[1;34m(self, response)\u001b[0m\n\u001b[0;32m    240\u001b[0m                 \u001b[0malert_text\u001b[0m \u001b[1;33m=\u001b[0m \u001b[0mvalue\u001b[0m\u001b[1;33m[\u001b[0m\u001b[1;34m'alert'\u001b[0m\u001b[1;33m]\u001b[0m\u001b[1;33m.\u001b[0m\u001b[0mget\u001b[0m\u001b[1;33m(\u001b[0m\u001b[1;34m'text'\u001b[0m\u001b[1;33m)\u001b[0m\u001b[1;33m\u001b[0m\u001b[1;33m\u001b[0m\u001b[0m\n\u001b[0;32m    241\u001b[0m             \u001b[1;32mraise\u001b[0m \u001b[0mexception_class\u001b[0m\u001b[1;33m(\u001b[0m\u001b[0mmessage\u001b[0m\u001b[1;33m,\u001b[0m \u001b[0mscreen\u001b[0m\u001b[1;33m,\u001b[0m \u001b[0mstacktrace\u001b[0m\u001b[1;33m,\u001b[0m \u001b[0malert_text\u001b[0m\u001b[1;33m)\u001b[0m\u001b[1;33m\u001b[0m\u001b[1;33m\u001b[0m\u001b[0m\n\u001b[1;32m--> 242\u001b[1;33m         \u001b[1;32mraise\u001b[0m \u001b[0mexception_class\u001b[0m\u001b[1;33m(\u001b[0m\u001b[0mmessage\u001b[0m\u001b[1;33m,\u001b[0m \u001b[0mscreen\u001b[0m\u001b[1;33m,\u001b[0m \u001b[0mstacktrace\u001b[0m\u001b[1;33m)\u001b[0m\u001b[1;33m\u001b[0m\u001b[1;33m\u001b[0m\u001b[0m\n\u001b[0m\u001b[0;32m    243\u001b[0m \u001b[1;33m\u001b[0m\u001b[0m\n\u001b[0;32m    244\u001b[0m     \u001b[1;32mdef\u001b[0m \u001b[0m_value_or_default\u001b[0m\u001b[1;33m(\u001b[0m\u001b[0mself\u001b[0m\u001b[1;33m,\u001b[0m \u001b[0mobj\u001b[0m\u001b[1;33m,\u001b[0m \u001b[0mkey\u001b[0m\u001b[1;33m,\u001b[0m \u001b[0mdefault\u001b[0m\u001b[1;33m)\u001b[0m\u001b[1;33m:\u001b[0m\u001b[1;33m\u001b[0m\u001b[1;33m\u001b[0m\u001b[0m\n",
      "\u001b[1;31mWebDriverException\u001b[0m: Message: chrome not reachable\n  (Session info: chrome=93.0.4577.63)\n"
     ]
    }
   ],
   "source": [
    "price_xpath = '//*[@id=\"__next\"]/div/div[1]/div[4]/div/div[3]/div/div/div[2]/div/div/div/b/i'\n",
    "#//*[@id=\"__next\"]/div/div[1]/div[4]/div/div[3]/div[1]/div/div[1]/div/div[2]/div[1]/span[1]/b\n",
    "#//*[@id=\"__next\"]/div/div[1]/div[4]/div/div[3]/div[2]/div/div[1]/div/div[2]/div[1]/span[1]/b\n",
    "GMP_depart_xpath = '//*[@id=\"__next\"]/div/div[1]/div[4]/div/div[3]/div/div/div[1]/div/div[2]/div[1]/span[1]/b'\n",
    "HNL_arrive_xpath = '//*[@id=\"__next\"]/div/div[1]/div[4]/div/div[3]/div/div/div[1]/div/div[2]/div[1]/span[2]/b'\n",
    "\n",
    "go_xpath = '//*[@id=\"__next\"]/div/div[1]/div[4]/div/div[3]/div/div/div[1]/div/div[2]/div[1]/i'\n",
    "\n",
    "HNL_depart_xpath = '//*[@id=\"__next\"]/div/div[1]/div[4]/div/div[3]/div/div/div[1]/div/div[2]/div[2]/span[1]/b'\n",
    "GMP_arrive_xpath = '//*[@id=\"__next\"]/div/div[1]/div[4]/div/div[3]/div/div/div[1]/div/div[2]/div[2]/span[2]/b'\n",
    "\n",
    "back_xpath = '//*[@id=\"__next\"]/div/div[1]/div[4]/div/div[3]/div/div/div[1]/div/div[2]/div[2]/i'\n",
    "#//*[@id=\"__next\"]/div/div[1]/div[4]/div/div[3]/div[1]/div/div[1]/div/div[2]/div[2]/span[1]/b\n",
    "#//*[@id=\"__next\"]/div/div[1]/div[4]/div/div[3]/div[2]/div/div[1]/div/div[2]/div[2]/span[1]/b\n",
    "#//*[@id=\"__next\"]/div/div[1]/div[4]/div/div[3]/div[3]/div/div[1]/div/div[2]/div[2]/span[1]/b\n",
    "#//*[@id=\"__next\"]/div/div[1]/div[4]/div/div[3]/div[1]/div/div[1]/div/div[2]/div[2]/span[2]/b\n",
    "#//*[@id=\"__next\"]/div/div[1]/div[4]/div/div[3]/div[2]/div/div[1]/div/div[2]/div[2]/span[2]/b\n",
    "\n",
    "\n",
    "sel_price = driver.find_elements_by_xpath(price_xpath)\n",
    "GMP_depart_times = driver.find_elements_by_xpath(GMP_depart_xpath)\n",
    "HNL_arrive_times = driver.find_elements_by_xpath(HNL_arrive_xpath)\n",
    "HNL_depart_times = driver.find_elements_by_xpath(HNL_depart_xpath)\n",
    "GMP_arrive_times = driver.find_elements_by_xpath(GMP_arrive_xpath)\n",
    "go_times = driver.find_elements_by_xpath(go_xpath)\n",
    "back_times = driver.find_elements_by_xpath(back_xpath)\n",
    "\n",
    "\n",
    "print(len(sel_price))\n",
    "print(len(GMP_depart_times))\n",
    "print(len(HNL_arrive_times))\n",
    "day_rank = []\n",
    "for i in range(5) :\n",
    "    print(i)\n",
    "    key = []\n",
    "    key.append(GMP_depart_times[i].text)\n",
    "    key.append(HNL_arrive_times[i].text)\n",
    "    key.append(HNL_depart_times[i].text)\n",
    "    key.append(GMP_arrive_times[i].text)\n",
    "    key.append(sel_price[i].text)\n",
    "    print(key)\n",
    "    day_rank.append(key)\n",
    "\n",
    "print(day_rank)\n"
   ]
  },
  {
   "cell_type": "code",
   "execution_count": 96,
   "id": "44fd8c99",
   "metadata": {},
   "outputs": [],
   "source": [
    "#함수화 1\n",
    "\n",
    "\n",
    "def hawaii(startday, endday) :\n",
    "    \n",
    "    url_start = \"https://beta-flight.naver.com/flights/international/ICN-HNL-\" \n",
    "    date1 = \"2021\" +str(startday) \n",
    "    url_middle = \"/HNL-ICN-\"\n",
    "    date2 = \"2021\" + str(endday) \n",
    "    url_last = \"?adult=1&fareType=Y\"\n",
    "    url = url_start+date1+url_middle+date2+url_last\n",
    "\n",
    "    driver = webdriver.Chrome('./chromedriver')\n",
    "    driver.get(url)\n",
    "\n",
    "    time.sleep(20)\n",
    "    #데이터 불러오는 시간\n",
    "    #implicitly_wait 사용?\n",
    "\n",
    "    price_xpath = '//*[@id=\"__next\"]/div/div[1]/div[4]/div/div[3]/div/div/div[2]/div/div/div/b/i'\n",
    "    GMP_depart_xpath = '//*[@id=\"__next\"]/div/div[1]/div[4]/div/div[3]/div/div/div[1]/div/div[2]/div[1]/span[1]/b'\n",
    "    HNL_arrive_xpath = '//*[@id=\"__next\"]/div/div[1]/div[4]/div/div[3]/div/div/div[1]/div/div[2]/div[1]/span[2]/b'\n",
    "    HNL_depart_xpath = '//*[@id=\"__next\"]/div/div[1]/div[4]/div/div[3]/div/div/div[1]/div/div[2]/div[2]/span[1]/b'\n",
    "    GMP_arrive_xpath = '//*[@id=\"__next\"]/div/div[1]/div[4]/div/div[3]/div/div/div[1]/div/div[2]/div[2]/span[2]/b'\n",
    "    go_xpath = '//*[@id=\"__next\"]/div/div[1]/div[4]/div/div[3]/div/div/div[1]/div/div[2]/div[1]/i'\n",
    "    back_xpath = '//*[@id=\"__next\"]/div/div[1]/div[4]/div/div[3]/div/div/div[1]/div/div[2]/div[2]/i'\n",
    "\n",
    "    sel_price = driver.find_elements_by_xpath(price_xpath)\n",
    "    GMP_depart_times = driver.find_elements_by_xpath(GMP_depart_xpath)\n",
    "    HNL_arrive_times = driver.find_elements_by_xpath(HNL_arrive_xpath)\n",
    "    HNL_depart_times = driver.find_elements_by_xpath(HNL_depart_xpath)\n",
    "    GMP_arrive_times = driver.find_elements_by_xpath(GMP_arrive_xpath)\n",
    "    \n",
    "    go_times = driver.find_elements_by_xpath(go_xpath)\n",
    "    back_times = driver.find_elements_by_xpath(back_xpath)\n",
    "\n",
    "\n",
    "    #print(len(sel_price))\n",
    "    #print(len(GMP_depart_times))\n",
    "    #print(len(HNL_arrive_times))\n",
    "    \n",
    "    day_rank5 = []\n",
    "    for i in range(5) :\n",
    "        key = []\n",
    "        key.append(GMP_depart_times[i].text)\n",
    "        key.append(HNL_arrive_times[i].text)\n",
    "        key.append(HNL_depart_times[i].text)\n",
    "        key.append(GMP_arrive_times[i].text)\n",
    "        key.append(sel_price[i].text)\n",
    "        #print(key)\n",
    "        day_rank5.append(key)\n",
    "    return day_rank5\n",
    "\n",
    "#print(hawaii(\"1205\",\"1215\"))        \n"
   ]
  },
  {
   "cell_type": "code",
   "execution_count": 2,
   "id": "020b6ef2",
   "metadata": {},
   "outputs": [],
   "source": [
    "#함수화 2\n",
    "\n",
    "\n",
    "def hawaii2(startday, endday) :\n",
    "    \n",
    "    url_start = \"https://beta-flight.naver.com/flights/international/ICN-HNL-\" \n",
    "    date1 = \"2021\" +str(startday) \n",
    "    url_middle = \"/HNL-ICN-\"\n",
    "    date2 = \"2021\" + str(endday) \n",
    "    url_last = \"?adult=1&fareType=Y\"\n",
    "    url = url_start+date1+url_middle+date2+url_last\n",
    "\n",
    "    driver = webdriver.Chrome('./chromedriver')\n",
    "    driver.get(url)\n",
    "\n",
    "    time.sleep(20)\n",
    "    #데이터 불러오는 시간\n",
    "    #implicitly_wait 사용?\n",
    "\n",
    "    price_xpath = '//*[@id=\"__next\"]/div/div[1]/div[4]/div/div[3]/div/div/div[2]/div/div/div/b/i'\n",
    "    go_xpath = '//*[@id=\"__next\"]/div/div[1]/div[4]/div/div[3]/div/div/div[1]/div/div[2]/div[1]/i'\n",
    "    back_xpath = '//*[@id=\"__next\"]/div/div[1]/div[4]/div/div[3]/div/div/div[1]/div/div[2]/div[2]/i'\n",
    "\n",
    "    sel_price = driver.find_elements_by_xpath(price_xpath)\n",
    "    go_times = driver.find_elements_by_xpath(go_xpath)\n",
    "    back_times = driver.find_elements_by_xpath(back_xpath)\n",
    "\n",
    "\n",
    "    #print(len(sel_price))\n",
    "    #print(len(GMP_depart_times))\n",
    "    #print(len(HNL_arrive_times))\n",
    "    \n",
    "    day_rank5 = []\n",
    "    for i in range(5) :\n",
    "        key = []\n",
    "        key.append(go_times[i].text[6:])\n",
    "        key.append(back_times[i].text[6:])\n",
    "        key.append(sel_price[i].text)\n",
    "        #print(key)\n",
    "        day_rank5.append(key)\n",
    "    return day_rank5\n",
    "\n",
    "#print(hawaii(\"1205\",\"1215\"))        "
   ]
  },
  {
   "cell_type": "code",
   "execution_count": 101,
   "id": "fdbe6193",
   "metadata": {},
   "outputs": [
    {
     "name": "stdout",
     "output_type": "stream",
     "text": [
      "[['15시간 30분', '15시간 20분', '854,800'], ['15시간 30분', '14시간 30분', '882,200'], ['20시간 40분', '15시간 20분', '888,300'], ['31시간 15분', '14시간 30분', '893,900'], ['14시간 50분', '14시간 30분', '1,028,000']]\n"
     ]
    }
   ],
   "source": [
    "# 12월 5일 출발 -> 12월 10,11,12 검색\n",
    "a = hawaii2(1205,1210)\n",
    "\n",
    "\n",
    "\n",
    "#all_dict = {}\n",
    "\n",
    "#import pandas as pd\n",
    "#dat = pd.DataFrame(all_dict)\n",
    "#dat.to_csv(\"practice1.csv\", index=False)"
   ]
  },
  {
   "cell_type": "code",
   "execution_count": 1,
   "id": "7cf0363b",
   "metadata": {},
   "outputs": [
    {
     "ename": "NameError",
     "evalue": "name 'a' is not defined",
     "output_type": "error",
     "traceback": [
      "\u001b[1;31m---------------------------------------------------------------------------\u001b[0m",
      "\u001b[1;31mNameError\u001b[0m                                 Traceback (most recent call last)",
      "\u001b[1;32m<ipython-input-1-5519bc5a4ee8>\u001b[0m in \u001b[0;36m<module>\u001b[1;34m\u001b[0m\n\u001b[0;32m      1\u001b[0m \u001b[0mgasungbee\u001b[0m \u001b[1;33m=\u001b[0m \u001b[1;33m[\u001b[0m\u001b[1;33m]\u001b[0m\u001b[1;33m\u001b[0m\u001b[1;33m\u001b[0m\u001b[0m\n\u001b[0;32m      2\u001b[0m \u001b[1;32mfor\u001b[0m \u001b[0mi\u001b[0m \u001b[1;32min\u001b[0m \u001b[0mrange\u001b[0m\u001b[1;33m(\u001b[0m\u001b[1;36m5\u001b[0m\u001b[1;33m)\u001b[0m \u001b[1;33m:\u001b[0m\u001b[1;33m\u001b[0m\u001b[1;33m\u001b[0m\u001b[0m\n\u001b[1;32m----> 3\u001b[1;33m     \u001b[0mtotal_hours\u001b[0m \u001b[1;33m=\u001b[0m \u001b[0mint\u001b[0m\u001b[1;33m(\u001b[0m\u001b[0ma\u001b[0m\u001b[1;33m[\u001b[0m\u001b[0mi\u001b[0m\u001b[1;33m]\u001b[0m\u001b[1;33m[\u001b[0m\u001b[1;36m0\u001b[0m\u001b[1;33m]\u001b[0m\u001b[1;33m[\u001b[0m\u001b[1;36m0\u001b[0m\u001b[1;33m:\u001b[0m\u001b[1;36m2\u001b[0m\u001b[1;33m]\u001b[0m\u001b[1;33m)\u001b[0m\u001b[1;33m+\u001b[0m\u001b[0mint\u001b[0m\u001b[1;33m(\u001b[0m\u001b[0ma\u001b[0m\u001b[1;33m[\u001b[0m\u001b[0mi\u001b[0m\u001b[1;33m]\u001b[0m\u001b[1;33m[\u001b[0m\u001b[1;36m1\u001b[0m\u001b[1;33m]\u001b[0m\u001b[1;33m[\u001b[0m\u001b[1;36m0\u001b[0m\u001b[1;33m:\u001b[0m\u001b[1;36m2\u001b[0m\u001b[1;33m]\u001b[0m\u001b[1;33m)\u001b[0m\u001b[1;33m\u001b[0m\u001b[1;33m\u001b[0m\u001b[0m\n\u001b[0m\u001b[0;32m      4\u001b[0m     \u001b[0mtotal_minutes\u001b[0m \u001b[1;33m=\u001b[0m \u001b[0mint\u001b[0m\u001b[1;33m(\u001b[0m\u001b[0ma\u001b[0m\u001b[1;33m[\u001b[0m\u001b[0mi\u001b[0m\u001b[1;33m]\u001b[0m\u001b[1;33m[\u001b[0m\u001b[1;36m0\u001b[0m\u001b[1;33m]\u001b[0m\u001b[1;33m[\u001b[0m\u001b[1;36m5\u001b[0m\u001b[1;33m:\u001b[0m\u001b[1;36m7\u001b[0m\u001b[1;33m]\u001b[0m\u001b[1;33m)\u001b[0m\u001b[1;33m+\u001b[0m\u001b[0mint\u001b[0m\u001b[1;33m(\u001b[0m\u001b[0ma\u001b[0m\u001b[1;33m[\u001b[0m\u001b[0mi\u001b[0m\u001b[1;33m]\u001b[0m\u001b[1;33m[\u001b[0m\u001b[1;36m1\u001b[0m\u001b[1;33m]\u001b[0m\u001b[1;33m[\u001b[0m\u001b[1;36m5\u001b[0m\u001b[1;33m:\u001b[0m\u001b[1;36m7\u001b[0m\u001b[1;33m]\u001b[0m\u001b[1;33m)\u001b[0m\u001b[1;33m\u001b[0m\u001b[1;33m\u001b[0m\u001b[0m\n\u001b[0;32m      5\u001b[0m     \u001b[0mtotal_times\u001b[0m \u001b[1;33m=\u001b[0m \u001b[0mtotal_hours\u001b[0m\u001b[1;33m*\u001b[0m\u001b[1;36m60\u001b[0m \u001b[1;33m+\u001b[0m \u001b[0mtotal_minutes\u001b[0m\u001b[1;33m\u001b[0m\u001b[1;33m\u001b[0m\u001b[0m\n",
      "\u001b[1;31mNameError\u001b[0m: name 'a' is not defined"
     ]
    }
   ],
   "source": [
    "gasungbee = []\n",
    "for i in range(5) :\n",
    "    total_hours = int(a[i][0][0:2])+int(a[i][1][0:2])\n",
    "    total_minutes = int(a[i][0][5:7])+int(a[i][1][5:7])\n",
    "    total_times = total_hours*60 + total_minutes\n",
    "    print(a[i][2])\n",
    "    #ratio = int(a[i][2])/total_times\n",
    "    #gasungbee.append(ratio)\n",
    "\n",
    "#print(gasungbee)"
   ]
  },
  {
   "cell_type": "code",
   "execution_count": null,
   "id": "f92647d7",
   "metadata": {},
   "outputs": [],
   "source": []
  }
 ],
 "metadata": {
  "kernelspec": {
   "display_name": "Python 3",
   "language": "python",
   "name": "python3"
  },
  "language_info": {
   "codemirror_mode": {
    "name": "ipython",
    "version": 3
   },
   "file_extension": ".py",
   "mimetype": "text/x-python",
   "name": "python",
   "nbconvert_exporter": "python",
   "pygments_lexer": "ipython3",
   "version": "3.8.8"
  }
 },
 "nbformat": 4,
 "nbformat_minor": 5
}
